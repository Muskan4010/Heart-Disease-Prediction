{
 "cells": [
  {
   "cell_type": "markdown",
   "id": "3ffc67c4",
   "metadata": {},
   "source": [
    "# HEALTHCARE ANALYSIS ON HEART DISEASE DATA\n",
    "Problem Statement: Health is real wealth in the pandemic time we all realized the brute effects of covid-19 on all irrespective of any status. You are required to analyze this health and medical data for better future preparation. This database contains 76 attributes, but all published experiments refer to using a subset of 14 of them. In particular, the Cleveland database is the only one that has been used by ML researchers to this date. The “goal” field refers to the presence of heart disease in the patient. It is integer valued from 0 (no presence) to 4. Attribute Information:\n",
    "\n",
    "age> 2. sex> 3. chest pain type (4 values)> 4. resting blood pressure>\n",
    "serum cholesterol in mg/dl> 6. fasting blood sugar > 120 mg/dl> 7. resting electrocardiographic results (values 0,1,2)> 8. maximum heart rate achieved> 9. exercise induced angina> 10. oldpeak = ST depression induced by exercise relative to rest> 11. the slope of the peak exercise ST segment> 12. number of major vessels (0-3) colored by flourosopy> 13. thal: 3 = normal; 6 = fixed defect; 7 = reversible defect Find key metrics and factors and show the meaningful relationships between attributes. \n",
    "\n",
    "Do your own research and come up with your findings.\n",
    "\n",
    "Analysis on Heart diseas.\n",
    "\n",
    "To predict whether the patient has heart disease or not."
   ]
  },
  {
   "cell_type": "code",
   "execution_count": 1,
   "id": "092c86a4",
   "metadata": {},
   "outputs": [],
   "source": [
    "# IMPORTING DATA AND EXPLORING DATA\n",
    "\n",
    "import pandas as pd\n",
    "import numpy as np\n",
    "import matplotlib.pyplot as plt\n",
    "%matplotlib inline\n",
    "import seaborn as sns\n",
    "\n",
    "from pylab import rcParams\n",
    "rcParams['figure.figsize'] = 5,4\n",
    "sns.set_style('whitegrid')\n",
    "\n",
    "from sklearn.metrics import accuracy_score, classification_report, confusion_matrix\n",
    "\n",
    "import warnings\n",
    "warnings.filterwarnings('ignore')"
   ]
  },
  {
   "cell_type": "code",
   "execution_count": 2,
   "id": "7d735329",
   "metadata": {},
   "outputs": [
    {
     "ename": "FileNotFoundError",
     "evalue": "[Errno 2] No such file or directory: 'Heart disease.csv'",
     "output_type": "error",
     "traceback": [
      "\u001b[1;31m---------------------------------------------------------------------------\u001b[0m",
      "\u001b[1;31mFileNotFoundError\u001b[0m                         Traceback (most recent call last)",
      "Input \u001b[1;32mIn [2]\u001b[0m, in \u001b[0;36m<module>\u001b[1;34m\u001b[0m\n\u001b[1;32m----> 1\u001b[0m hd \u001b[38;5;241m=\u001b[39m \u001b[43mpd\u001b[49m\u001b[38;5;241;43m.\u001b[39;49m\u001b[43mread_csv\u001b[49m\u001b[43m(\u001b[49m\u001b[38;5;124;43m\"\u001b[39;49m\u001b[38;5;124;43mHeart disease.csv\u001b[39;49m\u001b[38;5;124;43m\"\u001b[39;49m\u001b[43m)\u001b[49m\n\u001b[0;32m      2\u001b[0m hd\n",
      "File \u001b[1;32m~\\AppData\\Local\\Programs\\Python\\Python310\\lib\\site-packages\\pandas\\util\\_decorators.py:211\u001b[0m, in \u001b[0;36mdeprecate_kwarg.<locals>._deprecate_kwarg.<locals>.wrapper\u001b[1;34m(*args, **kwargs)\u001b[0m\n\u001b[0;32m    209\u001b[0m     \u001b[38;5;28;01melse\u001b[39;00m:\n\u001b[0;32m    210\u001b[0m         kwargs[new_arg_name] \u001b[38;5;241m=\u001b[39m new_arg_value\n\u001b[1;32m--> 211\u001b[0m \u001b[38;5;28;01mreturn\u001b[39;00m func(\u001b[38;5;241m*\u001b[39margs, \u001b[38;5;241m*\u001b[39m\u001b[38;5;241m*\u001b[39mkwargs)\n",
      "File \u001b[1;32m~\\AppData\\Local\\Programs\\Python\\Python310\\lib\\site-packages\\pandas\\util\\_decorators.py:331\u001b[0m, in \u001b[0;36mdeprecate_nonkeyword_arguments.<locals>.decorate.<locals>.wrapper\u001b[1;34m(*args, **kwargs)\u001b[0m\n\u001b[0;32m    325\u001b[0m \u001b[38;5;28;01mif\u001b[39;00m \u001b[38;5;28mlen\u001b[39m(args) \u001b[38;5;241m>\u001b[39m num_allow_args:\n\u001b[0;32m    326\u001b[0m     warnings\u001b[38;5;241m.\u001b[39mwarn(\n\u001b[0;32m    327\u001b[0m         msg\u001b[38;5;241m.\u001b[39mformat(arguments\u001b[38;5;241m=\u001b[39m_format_argument_list(allow_args)),\n\u001b[0;32m    328\u001b[0m         \u001b[38;5;167;01mFutureWarning\u001b[39;00m,\n\u001b[0;32m    329\u001b[0m         stacklevel\u001b[38;5;241m=\u001b[39mfind_stack_level(),\n\u001b[0;32m    330\u001b[0m     )\n\u001b[1;32m--> 331\u001b[0m \u001b[38;5;28;01mreturn\u001b[39;00m func(\u001b[38;5;241m*\u001b[39margs, \u001b[38;5;241m*\u001b[39m\u001b[38;5;241m*\u001b[39mkwargs)\n",
      "File \u001b[1;32m~\\AppData\\Local\\Programs\\Python\\Python310\\lib\\site-packages\\pandas\\io\\parsers\\readers.py:950\u001b[0m, in \u001b[0;36mread_csv\u001b[1;34m(filepath_or_buffer, sep, delimiter, header, names, index_col, usecols, squeeze, prefix, mangle_dupe_cols, dtype, engine, converters, true_values, false_values, skipinitialspace, skiprows, skipfooter, nrows, na_values, keep_default_na, na_filter, verbose, skip_blank_lines, parse_dates, infer_datetime_format, keep_date_col, date_parser, dayfirst, cache_dates, iterator, chunksize, compression, thousands, decimal, lineterminator, quotechar, quoting, doublequote, escapechar, comment, encoding, encoding_errors, dialect, error_bad_lines, warn_bad_lines, on_bad_lines, delim_whitespace, low_memory, memory_map, float_precision, storage_options)\u001b[0m\n\u001b[0;32m    935\u001b[0m kwds_defaults \u001b[38;5;241m=\u001b[39m _refine_defaults_read(\n\u001b[0;32m    936\u001b[0m     dialect,\n\u001b[0;32m    937\u001b[0m     delimiter,\n\u001b[1;32m   (...)\u001b[0m\n\u001b[0;32m    946\u001b[0m     defaults\u001b[38;5;241m=\u001b[39m{\u001b[38;5;124m\"\u001b[39m\u001b[38;5;124mdelimiter\u001b[39m\u001b[38;5;124m\"\u001b[39m: \u001b[38;5;124m\"\u001b[39m\u001b[38;5;124m,\u001b[39m\u001b[38;5;124m\"\u001b[39m},\n\u001b[0;32m    947\u001b[0m )\n\u001b[0;32m    948\u001b[0m kwds\u001b[38;5;241m.\u001b[39mupdate(kwds_defaults)\n\u001b[1;32m--> 950\u001b[0m \u001b[38;5;28;01mreturn\u001b[39;00m \u001b[43m_read\u001b[49m\u001b[43m(\u001b[49m\u001b[43mfilepath_or_buffer\u001b[49m\u001b[43m,\u001b[49m\u001b[43m \u001b[49m\u001b[43mkwds\u001b[49m\u001b[43m)\u001b[49m\n",
      "File \u001b[1;32m~\\AppData\\Local\\Programs\\Python\\Python310\\lib\\site-packages\\pandas\\io\\parsers\\readers.py:605\u001b[0m, in \u001b[0;36m_read\u001b[1;34m(filepath_or_buffer, kwds)\u001b[0m\n\u001b[0;32m    602\u001b[0m _validate_names(kwds\u001b[38;5;241m.\u001b[39mget(\u001b[38;5;124m\"\u001b[39m\u001b[38;5;124mnames\u001b[39m\u001b[38;5;124m\"\u001b[39m, \u001b[38;5;28;01mNone\u001b[39;00m))\n\u001b[0;32m    604\u001b[0m \u001b[38;5;66;03m# Create the parser.\u001b[39;00m\n\u001b[1;32m--> 605\u001b[0m parser \u001b[38;5;241m=\u001b[39m TextFileReader(filepath_or_buffer, \u001b[38;5;241m*\u001b[39m\u001b[38;5;241m*\u001b[39mkwds)\n\u001b[0;32m    607\u001b[0m \u001b[38;5;28;01mif\u001b[39;00m chunksize \u001b[38;5;129;01mor\u001b[39;00m iterator:\n\u001b[0;32m    608\u001b[0m     \u001b[38;5;28;01mreturn\u001b[39;00m parser\n",
      "File \u001b[1;32m~\\AppData\\Local\\Programs\\Python\\Python310\\lib\\site-packages\\pandas\\io\\parsers\\readers.py:1442\u001b[0m, in \u001b[0;36mTextFileReader.__init__\u001b[1;34m(self, f, engine, **kwds)\u001b[0m\n\u001b[0;32m   1439\u001b[0m     \u001b[38;5;28mself\u001b[39m\u001b[38;5;241m.\u001b[39moptions[\u001b[38;5;124m\"\u001b[39m\u001b[38;5;124mhas_index_names\u001b[39m\u001b[38;5;124m\"\u001b[39m] \u001b[38;5;241m=\u001b[39m kwds[\u001b[38;5;124m\"\u001b[39m\u001b[38;5;124mhas_index_names\u001b[39m\u001b[38;5;124m\"\u001b[39m]\n\u001b[0;32m   1441\u001b[0m \u001b[38;5;28mself\u001b[39m\u001b[38;5;241m.\u001b[39mhandles: IOHandles \u001b[38;5;241m|\u001b[39m \u001b[38;5;28;01mNone\u001b[39;00m \u001b[38;5;241m=\u001b[39m \u001b[38;5;28;01mNone\u001b[39;00m\n\u001b[1;32m-> 1442\u001b[0m \u001b[38;5;28mself\u001b[39m\u001b[38;5;241m.\u001b[39m_engine \u001b[38;5;241m=\u001b[39m \u001b[38;5;28;43mself\u001b[39;49m\u001b[38;5;241;43m.\u001b[39;49m\u001b[43m_make_engine\u001b[49m\u001b[43m(\u001b[49m\u001b[43mf\u001b[49m\u001b[43m,\u001b[49m\u001b[43m \u001b[49m\u001b[38;5;28;43mself\u001b[39;49m\u001b[38;5;241;43m.\u001b[39;49m\u001b[43mengine\u001b[49m\u001b[43m)\u001b[49m\n",
      "File \u001b[1;32m~\\AppData\\Local\\Programs\\Python\\Python310\\lib\\site-packages\\pandas\\io\\parsers\\readers.py:1735\u001b[0m, in \u001b[0;36mTextFileReader._make_engine\u001b[1;34m(self, f, engine)\u001b[0m\n\u001b[0;32m   1733\u001b[0m     \u001b[38;5;28;01mif\u001b[39;00m \u001b[38;5;124m\"\u001b[39m\u001b[38;5;124mb\u001b[39m\u001b[38;5;124m\"\u001b[39m \u001b[38;5;129;01mnot\u001b[39;00m \u001b[38;5;129;01min\u001b[39;00m mode:\n\u001b[0;32m   1734\u001b[0m         mode \u001b[38;5;241m+\u001b[39m\u001b[38;5;241m=\u001b[39m \u001b[38;5;124m\"\u001b[39m\u001b[38;5;124mb\u001b[39m\u001b[38;5;124m\"\u001b[39m\n\u001b[1;32m-> 1735\u001b[0m \u001b[38;5;28mself\u001b[39m\u001b[38;5;241m.\u001b[39mhandles \u001b[38;5;241m=\u001b[39m \u001b[43mget_handle\u001b[49m\u001b[43m(\u001b[49m\n\u001b[0;32m   1736\u001b[0m \u001b[43m    \u001b[49m\u001b[43mf\u001b[49m\u001b[43m,\u001b[49m\n\u001b[0;32m   1737\u001b[0m \u001b[43m    \u001b[49m\u001b[43mmode\u001b[49m\u001b[43m,\u001b[49m\n\u001b[0;32m   1738\u001b[0m \u001b[43m    \u001b[49m\u001b[43mencoding\u001b[49m\u001b[38;5;241;43m=\u001b[39;49m\u001b[38;5;28;43mself\u001b[39;49m\u001b[38;5;241;43m.\u001b[39;49m\u001b[43moptions\u001b[49m\u001b[38;5;241;43m.\u001b[39;49m\u001b[43mget\u001b[49m\u001b[43m(\u001b[49m\u001b[38;5;124;43m\"\u001b[39;49m\u001b[38;5;124;43mencoding\u001b[39;49m\u001b[38;5;124;43m\"\u001b[39;49m\u001b[43m,\u001b[49m\u001b[43m \u001b[49m\u001b[38;5;28;43;01mNone\u001b[39;49;00m\u001b[43m)\u001b[49m\u001b[43m,\u001b[49m\n\u001b[0;32m   1739\u001b[0m \u001b[43m    \u001b[49m\u001b[43mcompression\u001b[49m\u001b[38;5;241;43m=\u001b[39;49m\u001b[38;5;28;43mself\u001b[39;49m\u001b[38;5;241;43m.\u001b[39;49m\u001b[43moptions\u001b[49m\u001b[38;5;241;43m.\u001b[39;49m\u001b[43mget\u001b[49m\u001b[43m(\u001b[49m\u001b[38;5;124;43m\"\u001b[39;49m\u001b[38;5;124;43mcompression\u001b[39;49m\u001b[38;5;124;43m\"\u001b[39;49m\u001b[43m,\u001b[49m\u001b[43m \u001b[49m\u001b[38;5;28;43;01mNone\u001b[39;49;00m\u001b[43m)\u001b[49m\u001b[43m,\u001b[49m\n\u001b[0;32m   1740\u001b[0m \u001b[43m    \u001b[49m\u001b[43mmemory_map\u001b[49m\u001b[38;5;241;43m=\u001b[39;49m\u001b[38;5;28;43mself\u001b[39;49m\u001b[38;5;241;43m.\u001b[39;49m\u001b[43moptions\u001b[49m\u001b[38;5;241;43m.\u001b[39;49m\u001b[43mget\u001b[49m\u001b[43m(\u001b[49m\u001b[38;5;124;43m\"\u001b[39;49m\u001b[38;5;124;43mmemory_map\u001b[39;49m\u001b[38;5;124;43m\"\u001b[39;49m\u001b[43m,\u001b[49m\u001b[43m \u001b[49m\u001b[38;5;28;43;01mFalse\u001b[39;49;00m\u001b[43m)\u001b[49m\u001b[43m,\u001b[49m\n\u001b[0;32m   1741\u001b[0m \u001b[43m    \u001b[49m\u001b[43mis_text\u001b[49m\u001b[38;5;241;43m=\u001b[39;49m\u001b[43mis_text\u001b[49m\u001b[43m,\u001b[49m\n\u001b[0;32m   1742\u001b[0m \u001b[43m    \u001b[49m\u001b[43merrors\u001b[49m\u001b[38;5;241;43m=\u001b[39;49m\u001b[38;5;28;43mself\u001b[39;49m\u001b[38;5;241;43m.\u001b[39;49m\u001b[43moptions\u001b[49m\u001b[38;5;241;43m.\u001b[39;49m\u001b[43mget\u001b[49m\u001b[43m(\u001b[49m\u001b[38;5;124;43m\"\u001b[39;49m\u001b[38;5;124;43mencoding_errors\u001b[39;49m\u001b[38;5;124;43m\"\u001b[39;49m\u001b[43m,\u001b[49m\u001b[43m \u001b[49m\u001b[38;5;124;43m\"\u001b[39;49m\u001b[38;5;124;43mstrict\u001b[39;49m\u001b[38;5;124;43m\"\u001b[39;49m\u001b[43m)\u001b[49m\u001b[43m,\u001b[49m\n\u001b[0;32m   1743\u001b[0m \u001b[43m    \u001b[49m\u001b[43mstorage_options\u001b[49m\u001b[38;5;241;43m=\u001b[39;49m\u001b[38;5;28;43mself\u001b[39;49m\u001b[38;5;241;43m.\u001b[39;49m\u001b[43moptions\u001b[49m\u001b[38;5;241;43m.\u001b[39;49m\u001b[43mget\u001b[49m\u001b[43m(\u001b[49m\u001b[38;5;124;43m\"\u001b[39;49m\u001b[38;5;124;43mstorage_options\u001b[39;49m\u001b[38;5;124;43m\"\u001b[39;49m\u001b[43m,\u001b[49m\u001b[43m \u001b[49m\u001b[38;5;28;43;01mNone\u001b[39;49;00m\u001b[43m)\u001b[49m\u001b[43m,\u001b[49m\n\u001b[0;32m   1744\u001b[0m \u001b[43m\u001b[49m\u001b[43m)\u001b[49m\n\u001b[0;32m   1745\u001b[0m \u001b[38;5;28;01massert\u001b[39;00m \u001b[38;5;28mself\u001b[39m\u001b[38;5;241m.\u001b[39mhandles \u001b[38;5;129;01mis\u001b[39;00m \u001b[38;5;129;01mnot\u001b[39;00m \u001b[38;5;28;01mNone\u001b[39;00m\n\u001b[0;32m   1746\u001b[0m f \u001b[38;5;241m=\u001b[39m \u001b[38;5;28mself\u001b[39m\u001b[38;5;241m.\u001b[39mhandles\u001b[38;5;241m.\u001b[39mhandle\n",
      "File \u001b[1;32m~\\AppData\\Local\\Programs\\Python\\Python310\\lib\\site-packages\\pandas\\io\\common.py:856\u001b[0m, in \u001b[0;36mget_handle\u001b[1;34m(path_or_buf, mode, encoding, compression, memory_map, is_text, errors, storage_options)\u001b[0m\n\u001b[0;32m    851\u001b[0m \u001b[38;5;28;01melif\u001b[39;00m \u001b[38;5;28misinstance\u001b[39m(handle, \u001b[38;5;28mstr\u001b[39m):\n\u001b[0;32m    852\u001b[0m     \u001b[38;5;66;03m# Check whether the filename is to be opened in binary mode.\u001b[39;00m\n\u001b[0;32m    853\u001b[0m     \u001b[38;5;66;03m# Binary mode does not support 'encoding' and 'newline'.\u001b[39;00m\n\u001b[0;32m    854\u001b[0m     \u001b[38;5;28;01mif\u001b[39;00m ioargs\u001b[38;5;241m.\u001b[39mencoding \u001b[38;5;129;01mand\u001b[39;00m \u001b[38;5;124m\"\u001b[39m\u001b[38;5;124mb\u001b[39m\u001b[38;5;124m\"\u001b[39m \u001b[38;5;129;01mnot\u001b[39;00m \u001b[38;5;129;01min\u001b[39;00m ioargs\u001b[38;5;241m.\u001b[39mmode:\n\u001b[0;32m    855\u001b[0m         \u001b[38;5;66;03m# Encoding\u001b[39;00m\n\u001b[1;32m--> 856\u001b[0m         handle \u001b[38;5;241m=\u001b[39m \u001b[38;5;28;43mopen\u001b[39;49m\u001b[43m(\u001b[49m\n\u001b[0;32m    857\u001b[0m \u001b[43m            \u001b[49m\u001b[43mhandle\u001b[49m\u001b[43m,\u001b[49m\n\u001b[0;32m    858\u001b[0m \u001b[43m            \u001b[49m\u001b[43mioargs\u001b[49m\u001b[38;5;241;43m.\u001b[39;49m\u001b[43mmode\u001b[49m\u001b[43m,\u001b[49m\n\u001b[0;32m    859\u001b[0m \u001b[43m            \u001b[49m\u001b[43mencoding\u001b[49m\u001b[38;5;241;43m=\u001b[39;49m\u001b[43mioargs\u001b[49m\u001b[38;5;241;43m.\u001b[39;49m\u001b[43mencoding\u001b[49m\u001b[43m,\u001b[49m\n\u001b[0;32m    860\u001b[0m \u001b[43m            \u001b[49m\u001b[43merrors\u001b[49m\u001b[38;5;241;43m=\u001b[39;49m\u001b[43merrors\u001b[49m\u001b[43m,\u001b[49m\n\u001b[0;32m    861\u001b[0m \u001b[43m            \u001b[49m\u001b[43mnewline\u001b[49m\u001b[38;5;241;43m=\u001b[39;49m\u001b[38;5;124;43m\"\u001b[39;49m\u001b[38;5;124;43m\"\u001b[39;49m\u001b[43m,\u001b[49m\n\u001b[0;32m    862\u001b[0m \u001b[43m        \u001b[49m\u001b[43m)\u001b[49m\n\u001b[0;32m    863\u001b[0m     \u001b[38;5;28;01melse\u001b[39;00m:\n\u001b[0;32m    864\u001b[0m         \u001b[38;5;66;03m# Binary mode\u001b[39;00m\n\u001b[0;32m    865\u001b[0m         handle \u001b[38;5;241m=\u001b[39m \u001b[38;5;28mopen\u001b[39m(handle, ioargs\u001b[38;5;241m.\u001b[39mmode)\n",
      "\u001b[1;31mFileNotFoundError\u001b[0m: [Errno 2] No such file or directory: 'Heart disease.csv'"
     ]
    }
   ],
   "source": [
    "hd = pd.read_csv(\"Heart disease.csv\")\n",
    "hd"
   ]
  },
  {
   "cell_type": "code",
   "execution_count": null,
   "id": "4012255f",
   "metadata": {},
   "outputs": [],
   "source": [
    "hd.head()"
   ]
  },
  {
   "cell_type": "code",
   "execution_count": null,
   "id": "d0389622",
   "metadata": {},
   "outputs": [],
   "source": [
    "hd.info()"
   ]
  },
  {
   "cell_type": "code",
   "execution_count": null,
   "id": "e6cdbc4c",
   "metadata": {},
   "outputs": [],
   "source": [
    "hd.shape"
   ]
  },
  {
   "cell_type": "code",
   "execution_count": null,
   "id": "29393625",
   "metadata": {},
   "outputs": [],
   "source": [
    "hd.columns"
   ]
  },
  {
   "cell_type": "code",
   "execution_count": null,
   "id": "18aec55d",
   "metadata": {},
   "outputs": [],
   "source": [
    "type(hd)"
   ]
  },
  {
   "cell_type": "code",
   "execution_count": null,
   "id": "4dc377e1",
   "metadata": {},
   "outputs": [],
   "source": [
    "hd.isnull().sum()"
   ]
  },
  {
   "cell_type": "code",
   "execution_count": null,
   "id": "7b2e8edf",
   "metadata": {},
   "outputs": [],
   "source": [
    "hd.head()"
   ]
  },
  {
   "cell_type": "markdown",
   "id": "33d4c551",
   "metadata": {},
   "source": [
    "# EDA (Exploratory Data Analysis)\n",
    "Using Data Visualization\n",
    "\n",
    "1.age: Patients age in years\n",
    "\n",
    "2.sex : Female or male (1-Male,0-Female)\n",
    "\n",
    "3.cp :Chest pain ( 1- Typical Angina, 2-Atypical Angina,3-Non- anginal pain, 4-Asymptomatic)\n",
    "\n",
    "4.trestbp: Resting BloodPressure\n",
    "\n",
    "5.chol :Cholestrol\n",
    "\n",
    "6.fbs : Fasting Blood Sugar( >120 mg/dl, 1-True, 0 - False)\n",
    "\n",
    "7.restecg : Resting electrocardiographic measurement (0 = normal, 1 = having ST-T wave abnormality, 2 = showing probable or definite left ventricular hypertrophy by Estes' criteria)\n",
    "\n",
    "8.thalach :The person's maximum heart rate achieved\n",
    "\n",
    "9.exang : Exercise induced angina (1 = yes; 0 = no)\n",
    "\n",
    "10.oldpeak: ST depression induced by exercise relative to rest ('ST' relates to positions on the ECG plot. See more here)\n",
    "\n",
    "11.slope : the slope of the peak exercise ST segment (Value 1: upsloping, Value 2: flat, Value 3: downsloping)\n",
    "\n",
    "12.ca :The number of major vessels (0-3)\n",
    "\n",
    "13.thal : A blood disorder called thalassemia (3 = normal; 6 = fixed defect; 7 = reversable defect)\n",
    "\n",
    "14.target : Heart disease (0 = no, 1 = yes)"
   ]
  },
  {
   "cell_type": "code",
   "execution_count": null,
   "id": "62ef582c",
   "metadata": {},
   "outputs": [],
   "source": [
    "hd.describe()"
   ]
  },
  {
   "cell_type": "code",
   "execution_count": null,
   "id": "61ff47de",
   "metadata": {},
   "outputs": [],
   "source": [
    "pd.set_option('display.float_format','{:.2f}'.format)"
   ]
  },
  {
   "cell_type": "code",
   "execution_count": null,
   "id": "2a112cc5",
   "metadata": {},
   "outputs": [],
   "source": [
    "hd.describe()"
   ]
  },
  {
   "cell_type": "code",
   "execution_count": null,
   "id": "f57bccc7",
   "metadata": {},
   "outputs": [],
   "source": [
    "hd['target'].value_counts()"
   ]
  },
  {
   "cell_type": "code",
   "execution_count": null,
   "id": "9b99b5ca",
   "metadata": {},
   "outputs": [],
   "source": [
    "hd.shape"
   ]
  },
  {
   "cell_type": "code",
   "execution_count": null,
   "id": "4fb60efe",
   "metadata": {},
   "outputs": [],
   "source": [
    "hd['target'].value_counts()/hd.shape[0]*100"
   ]
  },
  {
   "cell_type": "code",
   "execution_count": null,
   "id": "66b84821",
   "metadata": {},
   "outputs": [],
   "source": [
    "# percentage of positive and negative heart diseases\n",
    "labels = ['yes', 'No']\n",
    "values = hd['target'].value_counts().values\n",
    "\n",
    "plt.pie(values, labels=labels, autopct='%1.0f%%')\n",
    "plt.title('Heart Disease')\n",
    "plt.show()"
   ]
  },
  {
   "cell_type": "markdown",
   "id": "b6290be7",
   "metadata": {},
   "source": [
    "# Histagram plot for all feature "
   ]
  },
  {
   "cell_type": "code",
   "execution_count": null,
   "id": "aa9ff913",
   "metadata": {},
   "outputs": [],
   "source": [
    "import itertools\n",
    "col= hd.columns[:13]\n",
    "plt.subplots(figsize=(20,15))\n",
    "length= len(col)\n",
    "\n",
    "for i,j in itertools.zip_longest(col, range(length)):\n",
    "    plt.subplot((length/2), 3, j+1)\n",
    "    plt.subplots_adjust(wspace = 0.1,hspace= 0.5)\n",
    "    hd[i].hist(bins=20)\n",
    "    plt.title(i)\n",
    "plt.show()"
   ]
  },
  {
   "cell_type": "code",
   "execution_count": null,
   "id": "b9f74bf5",
   "metadata": {},
   "outputs": [],
   "source": [
    "sns.catplot('target', data=hd, hue='sex', kind='count')\n",
    "plt.xticks(np.arange(2), (\"1-Not Healthy\", \"0-Healthy\"),rotation=0);"
   ]
  },
  {
   "cell_type": "code",
   "execution_count": null,
   "id": "61f3299f",
   "metadata": {},
   "outputs": [],
   "source": [
    "hd['sex'].value_counts()"
   ]
  },
  {
   "cell_type": "markdown",
   "id": "b2ecd28b",
   "metadata": {},
   "source": [
    "From the above Histogram plots we can conclude Age, Cholestrol, Resting blood pressure and person's maximum heart rate achieved plays major role in detection of Heart Disease.\n",
    "\n",
    "From the another plot we can conclude that number of men are majorly having Heart disease than compared to females.And also men are more healthier than females"
   ]
  },
  {
   "cell_type": "code",
   "execution_count": null,
   "id": "db9d1ddf",
   "metadata": {},
   "outputs": [],
   "source": [
    "hd['cp'].value_counts().plot(kind='bar',color=[\"deeppink\",\"salmon\"])\n",
    "plt.xticks(np.arange(2), (\"1-Not Healthy\", \"0-Healthy\"),rotation=0);"
   ]
  },
  {
   "cell_type": "code",
   "execution_count": null,
   "id": "5b34c944",
   "metadata": {},
   "outputs": [],
   "source": [
    "# Possibility of having Heart Disease \n",
    "#Creating a Function for unique values in data\n",
    "categorical_values = []\n",
    "for column in hd.columns:\n",
    "    print('==============================')\n",
    "    print(f\"{column} : {hd[column].unique()}\")\n",
    "    if len(hd[column].unique()) <= 10:\n",
    "        categorical_values.append(column)"
   ]
  },
  {
   "cell_type": "code",
   "execution_count": null,
   "id": "1a0fbfe9",
   "metadata": {},
   "outputs": [],
   "source": [
    "plt.figure(figsize=(12,  12))\n",
    "for i, column in enumerate(categorical_values, 1):\n",
    "    plt.subplot(3, 3, i)\n",
    "    sns.barplot(x=f\"{column}\", y='target', data=hd)\n",
    "    plt.ylabel('Possibility to have heart disease')\n",
    "    plt.xlabel(f'{column}')"
   ]
  },
  {
   "cell_type": "markdown",
   "id": "9b535e88",
   "metadata": {},
   "source": [
    "The possibility of having Heart Disease can be judged from the above barplots."
   ]
  },
  {
   "cell_type": "code",
   "execution_count": null,
   "id": "780c434b",
   "metadata": {},
   "outputs": [],
   "source": [
    "# Comparing resting blood pressure with target\n",
    "\n",
    "pd.crosstab(hd.trestbps[::15],hd.target).plot(kind=\"bar\",figsize=(8,8),color=[\"deeppink\",\"blue\"])\n",
    "plt.ylabel(\"patients\");\n",
    "plt.xticks(rotation=0);\n",
    "plt.legend(['0', '1']);  "
   ]
  },
  {
   "cell_type": "code",
   "execution_count": null,
   "id": "5199ba13",
   "metadata": {},
   "outputs": [],
   "source": [
    "# Comparing cholestrol with target\n",
    "#cp :Chest pain ( 1- Typical Angina, 2-Atypical Angina,3- Non-anginal pain, 4-Asymptomatic)\n",
    "\n",
    "pd.crosstab(hd.cp[::15],hd.target).plot(kind=\"bar\",figsize=(8,8),color=[\"deeppink\",\"blue\"])\n",
    "plt.ylabel(\"patients\");\n",
    "plt.xticks(rotation=0);\n",
    "plt.legend(['0', '1']); \n"
   ]
  },
  {
   "cell_type": "markdown",
   "id": "8ebea672",
   "metadata": {},
   "source": [
    "The above graph tells us that patients with Type 3 chest pain have heart disease. and verty few Patients with 1 type chest pain have heart disease"
   ]
  },
  {
   "cell_type": "code",
   "execution_count": null,
   "id": "bfbc40e7",
   "metadata": {},
   "outputs": [],
   "source": [
    "# Comparing cholestrol with target\n",
    "pd.crosstab(hd.chol[::15],hd.target).plot(kind=\"bar\",figsize=(8,8),color=[\"deeppink\",\"blue\"])\n",
    "plt.ylabel(\"patients\");\n",
    "plt.xticks(rotation=0);\n",
    "plt.legend(['0', '1']); "
   ]
  },
  {
   "cell_type": "code",
   "execution_count": null,
   "id": "12ed0803",
   "metadata": {},
   "outputs": [],
   "source": [
    "# Comparing maximum heart rate with target\n",
    "pd.crosstab(hd.thalach[::15],hd.target).plot(kind=\"bar\",figsize=(8,8),color=[\"deeppink\",\"blue\"])\n",
    "plt.ylabel(\"patients\");\n",
    "plt.xticks(rotation=0);\n",
    "plt.legend(['0', '1']);"
   ]
  },
  {
   "cell_type": "code",
   "execution_count": null,
   "id": "eb96679b",
   "metadata": {},
   "outputs": [],
   "source": [
    "# fINDING Heart Disease PEOPLE WITH restingBloodPressure AND AGE  USING SCATTER PLOT\n",
    "\n",
    "plt.figure(figsize=(10,8))\n",
    "plt.scatter(hd.age[hd.target==1],hd.trestbps[hd.target==1],color=\"Red\")\n",
    "\n",
    "plt.scatter(hd.age[hd.target==0],hd.trestbps[hd.target==0],color=\"Green\")\n",
    "\n",
    "plt.title(\"heart disease in function of Age and resting Blood pressure\")\n",
    "plt.xlabel(\"Age\")\n",
    "plt.ylabel(\"TRESTBPS\")\n",
    "plt.legend([\"HeartDisease\",\"No HeartDisease\"]);"
   ]
  },
  {
   "cell_type": "code",
   "execution_count": null,
   "id": "728677ba",
   "metadata": {},
   "outputs": [],
   "source": [
    "# To knw thw relation between various features\n",
    "\n",
    "corr_matrix = hd.corr()\n",
    "top_corr_feature = corr_matrix.index\n",
    "plt.figure(figsize=(20, 20))\n",
    "sns.heatmap(hd[top_corr_feature].corr(), annot=True, cmap=\"RdYlGn\", annot_kws={\"size\":15})"
   ]
  },
  {
   "cell_type": "markdown",
   "id": "43d38c7f",
   "metadata": {},
   "source": [
    "# OBSERVATION\n",
    "1.Major features for having Heart diesease are : Resting blood pressure, Cholestrol, Chest pain and Maximum Heart rates achieved.\n",
    "\n",
    "2.The data is not disbalanced.\n",
    "\n",
    "3.From the another plot we can conclude that number of men are majorly having Heart disease than compared to females.And also men are more healthier than females.\n",
    "\n",
    "4.The graph tells us that patients with Type 3 chest pain have heart disease and very few Patients with 1 type chest pain can have heart disease."
   ]
  },
  {
   "cell_type": "code",
   "execution_count": null,
   "id": "42576e0d",
   "metadata": {},
   "outputs": [],
   "source": [
    "# creating a copy of dataset \n",
    "heart = hd.copy()"
   ]
  },
  {
   "cell_type": "code",
   "execution_count": null,
   "id": "280d511c",
   "metadata": {},
   "outputs": [],
   "source": [
    "heart.shape"
   ]
  },
  {
   "cell_type": "code",
   "execution_count": null,
   "id": "18428437",
   "metadata": {},
   "outputs": [],
   "source": [
    "heart = heart.rename(columns={'condition':'target'})\n",
    "heart.head()\n"
   ]
  },
  {
   "cell_type": "markdown",
   "id": "5880ea29",
   "metadata": {},
   "source": [
    "# Lets divide our data set and use training dataset for model training, and test dataset is to eveluate model perfomance"
   ]
  },
  {
   "cell_type": "code",
   "execution_count": null,
   "id": "f42f7dd7",
   "metadata": {},
   "outputs": [],
   "source": [
    "from sklearn.model_selection import train_test_split\n",
    "\n",
    "x= heart.drop(columns= 'target')\n",
    "y= heart.target\n",
    "\n",
    "x_train, x_test, y_train, y_test= train_test_split(x, y, test_size= 0.25, random_state=42)\n",
    "print('X_train size: {}, X_test size: {}'.format(x_train.shape, x_test.shape))"
   ]
  },
  {
   "cell_type": "markdown",
   "id": "e5c64867",
   "metadata": {},
   "source": [
    "# Feature scaling\n"
   ]
  },
  {
   "cell_type": "code",
   "execution_count": null,
   "id": "a413da9b",
   "metadata": {},
   "outputs": [],
   "source": [
    "from sklearn.preprocessing import StandardScaler\n",
    "\n",
    "scaler= StandardScaler()\n",
    "x_train_scaler= scaler.fit_transform(x_train)\n",
    "x_test_scaler= scaler.fit_transform(x_test)"
   ]
  },
  {
   "cell_type": "markdown",
   "id": "32b2dc26",
   "metadata": {},
   "source": [
    "from sklearn.preprocessing import StandardScaler\n",
    "\n",
    "scaler= StandardScaler()\n",
    "x_train_scaler= scaler.fit_transform(x_train)\n",
    "x_test_scaler= scaler.fit_transform(x_test)"
   ]
  },
  {
   "cell_type": "markdown",
   "id": "ac74b8a0",
   "metadata": {},
   "source": [
    "# Linear regression"
   ]
  },
  {
   "cell_type": "code",
   "execution_count": null,
   "id": "135537e2",
   "metadata": {},
   "outputs": [],
   "source": [
    "from sklearn.linear_model import LinearRegression\n",
    "lr_clf= LinearRegression()\n",
    "lr_clf.fit(x_train_scaler, y_train)\n",
    "y_pred_lr= lr_clf.predict(x_test_scaler)\n",
    "lr_clf.score(x_test_scaler,y_test)"
   ]
  },
  {
   "cell_type": "markdown",
   "id": "825b9755",
   "metadata": {},
   "source": [
    "# LOGISTIC REGRESSION\n"
   ]
  },
  {
   "cell_type": "code",
   "execution_count": null,
   "id": "02511e1b",
   "metadata": {},
   "outputs": [],
   "source": [
    "from sklearn.linear_model import LogisticRegression\n",
    "\n",
    "logr_clf= LogisticRegression()\n",
    "logr_clf.fit(x_train_scaler, y_train)\n",
    "y_pred_lor= logr_clf.predict(x_test_scaler)\n",
    "logr_clf.score(x_test_scaler,y_test)"
   ]
  },
  {
   "cell_type": "code",
   "execution_count": null,
   "id": "e72734e1",
   "metadata": {},
   "outputs": [],
   "source": [
    "print('LogistiC Regression Classification Report\\n', classification_report(y_test, y_pred_lor))\n",
    "print('Accuracy: {}%\\n'.format(round((accuracy_score(y_test, y_pred_lor)*100),2)))"
   ]
  },
  {
   "cell_type": "code",
   "execution_count": null,
   "id": "3501de7c",
   "metadata": {},
   "outputs": [],
   "source": [
    "cm = confusion_matrix(y_test, y_pred_lor)\n",
    "cm"
   ]
  },
  {
   "cell_type": "markdown",
   "id": "ea4ff316",
   "metadata": {},
   "source": [
    "# Decision Tree classifier"
   ]
  },
  {
   "cell_type": "code",
   "execution_count": null,
   "id": "231b4764",
   "metadata": {},
   "outputs": [],
   "source": [
    "from sklearn.tree import DecisionTreeClassifier\n",
    "dt_clf= DecisionTreeClassifier()\n",
    "dt_clf.fit(x_train_scaler, y_train)\n",
    "y_pred_dct= dt_clf.predict(x_test_scaler)\n",
    "dt_clf.score(x_test_scaler,y_test)"
   ]
  },
  {
   "cell_type": "code",
   "execution_count": null,
   "id": "5e2f7019",
   "metadata": {},
   "outputs": [],
   "source": [
    "print(' DT Classification Report\\n', classification_report(y_test, y_pred_dct))\n",
    "print('Accuracy: {}%\\n'.format(round((accuracy_score(y_test, y_pred_dct)*100),2)))"
   ]
  },
  {
   "cell_type": "code",
   "execution_count": null,
   "id": "f45eb7bd",
   "metadata": {},
   "outputs": [],
   "source": [
    "cm = confusion_matrix(y_test, y_pred_dct)\n",
    "cm"
   ]
  },
  {
   "cell_type": "markdown",
   "id": "b683a124",
   "metadata": {},
   "source": [
    "# Random Forest"
   ]
  },
  {
   "cell_type": "code",
   "execution_count": null,
   "id": "7ff2daec",
   "metadata": {},
   "outputs": [],
   "source": [
    "from sklearn.ensemble import RandomForestClassifier\n",
    "\n",
    "rf_clf= RandomForestClassifier()\n",
    "rf_clf.fit(x_train_scaler, y_train)\n",
    "y_pred_rfc= rf_clf.predict(x_test_scaler)\n",
    "rf_clf.score(x_test_scaler,y_test)"
   ]
  },
  {
   "cell_type": "code",
   "execution_count": null,
   "id": "1f071d32",
   "metadata": {},
   "outputs": [],
   "source": [
    "print('Random Forest Classification Report\\n', classification_report(y_test, y_pred_rfc))\n",
    "print('Accuracy: {}%\\n'.format(round((accuracy_score(y_test, y_pred_rfc)*100),2)))"
   ]
  },
  {
   "cell_type": "code",
   "execution_count": null,
   "id": "3120ce24",
   "metadata": {},
   "outputs": [],
   "source": [
    "cm = confusion_matrix(y_test, y_pred_rfc)\n",
    "cm"
   ]
  },
  {
   "cell_type": "markdown",
   "id": "db67db20",
   "metadata": {},
   "source": [
    "# SVM"
   ]
  },
  {
   "cell_type": "code",
   "execution_count": null,
   "id": "c93a501d",
   "metadata": {},
   "outputs": [],
   "source": [
    "from sklearn.svm import SVC\n",
    "\n",
    "svc_clf= SVC()\n",
    "svc_clf.fit(x_train_scaler, y_train)\n",
    "y_pred_svc= svc_clf.predict(x_test_scaler)\n",
    "svc_clf.score(x_test_scaler,y_test)"
   ]
  },
  {
   "cell_type": "code",
   "execution_count": null,
   "id": "302f819b",
   "metadata": {},
   "outputs": [],
   "source": [
    "print(' SVM Classification Report\\n', classification_report(y_test, y_pred_svc))\n",
    "print('Accuracy: {}%\\n'.format(round((accuracy_score(y_test, y_pred_svc)*100),2)))"
   ]
  },
  {
   "cell_type": "code",
   "execution_count": null,
   "id": "3cdda923",
   "metadata": {},
   "outputs": [],
   "source": [
    "cm = confusion_matrix(y_test, y_pred_svc)\n",
    "cm"
   ]
  },
  {
   "cell_type": "code",
   "execution_count": null,
   "id": "750daf17",
   "metadata": {},
   "outputs": [],
   "source": [
    "import pickle\n",
    "\n",
    "filename = 'Healthcare_Analysis_on_Heart_Disease.pkl'\n",
    "pickle.dump(logr_clf, open(filename, 'wb'))"
   ]
  },
  {
   "cell_type": "code",
   "execution_count": null,
   "id": "eac919eb",
   "metadata": {},
   "outputs": [],
   "source": []
  }
 ],
 "metadata": {
  "kernelspec": {
   "display_name": "Python 3 (ipykernel)",
   "language": "python",
   "name": "python3"
  },
  "language_info": {
   "codemirror_mode": {
    "name": "ipython",
    "version": 3
   },
   "file_extension": ".py",
   "mimetype": "text/x-python",
   "name": "python",
   "nbconvert_exporter": "python",
   "pygments_lexer": "ipython3",
   "version": "3.10.4"
  }
 },
 "nbformat": 4,
 "nbformat_minor": 5
}
