{
 "cells": [
  {
   "cell_type": "markdown",
   "id": "3ffc67c4",
   "metadata": {},
   "source": [
    "# HEALTHCARE ANALYSIS ON HEART DISEASE DATA\n",
    "Problem Statement: Health is real wealth in the pandemic time we all realized the brute effects of covid-19 on all irrespective of any status. You are required to analyze this health and medical data for better future preparation. This database contains 76 attributes, but all published experiments refer to using a subset of 14 of them. In particular, the Cleveland database is the only one that has been used by ML researchers to this date. The “goal” field refers to the presence of heart disease in the patient. It is integer valued from 0 (no presence) to 4. Attribute Information:\n",
    "\n",
    "age> 2. sex> 3. chest pain type (4 values)> 4. resting blood pressure>\n",
    "serum cholesterol in mg/dl> 6. fasting blood sugar > 120 mg/dl> 7. resting electrocardiographic results (values 0,1,2)> 8. maximum heart rate achieved> 9. exercise induced angina> 10. oldpeak = ST depression induced by exercise relative to rest> 11. the slope of the peak exercise ST segment> 12. number of major vessels (0-3) colored by flourosopy> 13. thal: 3 = normal; 6 = fixed defect; 7 = reversible defect Find key metrics and factors and show the meaningful relationships between attributes. \n",
    "\n",
    "Do your own research and come up with your findings.\n",
    "\n",
    "Analysis on Heart diseas.\n",
    "\n",
    "To predict whether the patient has heart disease or not."
   ]
  },
  {
   "cell_type": "code",
   "execution_count": 103,
   "id": "092c86a4",
   "metadata": {},
   "outputs": [],
   "source": [
    "# IMPORTING DATA AND EXPLORING DATA\n",
    "\n",
    "import pandas as pd\n",
    "import numpy as np\n",
    "import matplotlib.pyplot as plt\n",
    "%matplotlib inline\n",
    "import seaborn as sns\n",
    "\n",
    "from pylab import rcParams\n",
    "rcParams['figure.figsize'] = 5,4\n",
    "sns.set_style('whitegrid')\n",
    "\n",
    "from sklearn.metrics import accuracy_score, classification_report, confusion_matrix, precision_score, recall_score\n",
    "\n",
    "import warnings\n",
    "warnings.filterwarnings('ignore')"
   ]
  },
  {
   "cell_type": "code",
   "execution_count": 104,
   "id": "7d735329",
   "metadata": {},
   "outputs": [
    {
     "data": {
      "text/html": [
       "<div>\n",
       "<style scoped>\n",
       "    .dataframe tbody tr th:only-of-type {\n",
       "        vertical-align: middle;\n",
       "    }\n",
       "\n",
       "    .dataframe tbody tr th {\n",
       "        vertical-align: top;\n",
       "    }\n",
       "\n",
       "    .dataframe thead th {\n",
       "        text-align: right;\n",
       "    }\n",
       "</style>\n",
       "<table border=\"1\" class=\"dataframe\">\n",
       "  <thead>\n",
       "    <tr style=\"text-align: right;\">\n",
       "      <th></th>\n",
       "      <th>age</th>\n",
       "      <th>sex</th>\n",
       "      <th>cp</th>\n",
       "      <th>trestbps</th>\n",
       "      <th>chol</th>\n",
       "      <th>fbs</th>\n",
       "      <th>restecg</th>\n",
       "      <th>thalach</th>\n",
       "      <th>exang</th>\n",
       "      <th>oldpeak</th>\n",
       "      <th>slope</th>\n",
       "      <th>ca</th>\n",
       "      <th>thal</th>\n",
       "      <th>target</th>\n",
       "    </tr>\n",
       "  </thead>\n",
       "  <tbody>\n",
       "    <tr>\n",
       "      <th>0</th>\n",
       "      <td>69</td>\n",
       "      <td>1</td>\n",
       "      <td>0</td>\n",
       "      <td>160</td>\n",
       "      <td>234</td>\n",
       "      <td>1</td>\n",
       "      <td>2</td>\n",
       "      <td>131</td>\n",
       "      <td>0</td>\n",
       "      <td>0.10</td>\n",
       "      <td>1</td>\n",
       "      <td>1</td>\n",
       "      <td>0</td>\n",
       "      <td>0</td>\n",
       "    </tr>\n",
       "    <tr>\n",
       "      <th>1</th>\n",
       "      <td>69</td>\n",
       "      <td>0</td>\n",
       "      <td>0</td>\n",
       "      <td>140</td>\n",
       "      <td>239</td>\n",
       "      <td>0</td>\n",
       "      <td>0</td>\n",
       "      <td>151</td>\n",
       "      <td>0</td>\n",
       "      <td>1.80</td>\n",
       "      <td>0</td>\n",
       "      <td>2</td>\n",
       "      <td>0</td>\n",
       "      <td>0</td>\n",
       "    </tr>\n",
       "    <tr>\n",
       "      <th>2</th>\n",
       "      <td>66</td>\n",
       "      <td>0</td>\n",
       "      <td>0</td>\n",
       "      <td>150</td>\n",
       "      <td>226</td>\n",
       "      <td>0</td>\n",
       "      <td>0</td>\n",
       "      <td>114</td>\n",
       "      <td>0</td>\n",
       "      <td>2.60</td>\n",
       "      <td>2</td>\n",
       "      <td>0</td>\n",
       "      <td>0</td>\n",
       "      <td>0</td>\n",
       "    </tr>\n",
       "    <tr>\n",
       "      <th>3</th>\n",
       "      <td>65</td>\n",
       "      <td>1</td>\n",
       "      <td>0</td>\n",
       "      <td>138</td>\n",
       "      <td>282</td>\n",
       "      <td>1</td>\n",
       "      <td>2</td>\n",
       "      <td>174</td>\n",
       "      <td>0</td>\n",
       "      <td>1.40</td>\n",
       "      <td>1</td>\n",
       "      <td>1</td>\n",
       "      <td>0</td>\n",
       "      <td>1</td>\n",
       "    </tr>\n",
       "    <tr>\n",
       "      <th>4</th>\n",
       "      <td>64</td>\n",
       "      <td>1</td>\n",
       "      <td>0</td>\n",
       "      <td>110</td>\n",
       "      <td>211</td>\n",
       "      <td>0</td>\n",
       "      <td>2</td>\n",
       "      <td>144</td>\n",
       "      <td>1</td>\n",
       "      <td>1.80</td>\n",
       "      <td>1</td>\n",
       "      <td>0</td>\n",
       "      <td>0</td>\n",
       "      <td>0</td>\n",
       "    </tr>\n",
       "    <tr>\n",
       "      <th>...</th>\n",
       "      <td>...</td>\n",
       "      <td>...</td>\n",
       "      <td>...</td>\n",
       "      <td>...</td>\n",
       "      <td>...</td>\n",
       "      <td>...</td>\n",
       "      <td>...</td>\n",
       "      <td>...</td>\n",
       "      <td>...</td>\n",
       "      <td>...</td>\n",
       "      <td>...</td>\n",
       "      <td>...</td>\n",
       "      <td>...</td>\n",
       "      <td>...</td>\n",
       "    </tr>\n",
       "    <tr>\n",
       "      <th>292</th>\n",
       "      <td>40</td>\n",
       "      <td>1</td>\n",
       "      <td>3</td>\n",
       "      <td>152</td>\n",
       "      <td>223</td>\n",
       "      <td>0</td>\n",
       "      <td>0</td>\n",
       "      <td>181</td>\n",
       "      <td>0</td>\n",
       "      <td>0.00</td>\n",
       "      <td>0</td>\n",
       "      <td>0</td>\n",
       "      <td>2</td>\n",
       "      <td>1</td>\n",
       "    </tr>\n",
       "    <tr>\n",
       "      <th>293</th>\n",
       "      <td>39</td>\n",
       "      <td>1</td>\n",
       "      <td>3</td>\n",
       "      <td>118</td>\n",
       "      <td>219</td>\n",
       "      <td>0</td>\n",
       "      <td>0</td>\n",
       "      <td>140</td>\n",
       "      <td>0</td>\n",
       "      <td>1.20</td>\n",
       "      <td>1</td>\n",
       "      <td>0</td>\n",
       "      <td>2</td>\n",
       "      <td>1</td>\n",
       "    </tr>\n",
       "    <tr>\n",
       "      <th>294</th>\n",
       "      <td>35</td>\n",
       "      <td>1</td>\n",
       "      <td>3</td>\n",
       "      <td>120</td>\n",
       "      <td>198</td>\n",
       "      <td>0</td>\n",
       "      <td>0</td>\n",
       "      <td>130</td>\n",
       "      <td>1</td>\n",
       "      <td>1.60</td>\n",
       "      <td>1</td>\n",
       "      <td>0</td>\n",
       "      <td>2</td>\n",
       "      <td>1</td>\n",
       "    </tr>\n",
       "    <tr>\n",
       "      <th>295</th>\n",
       "      <td>35</td>\n",
       "      <td>0</td>\n",
       "      <td>3</td>\n",
       "      <td>138</td>\n",
       "      <td>183</td>\n",
       "      <td>0</td>\n",
       "      <td>0</td>\n",
       "      <td>182</td>\n",
       "      <td>0</td>\n",
       "      <td>1.40</td>\n",
       "      <td>0</td>\n",
       "      <td>0</td>\n",
       "      <td>0</td>\n",
       "      <td>0</td>\n",
       "    </tr>\n",
       "    <tr>\n",
       "      <th>296</th>\n",
       "      <td>35</td>\n",
       "      <td>1</td>\n",
       "      <td>3</td>\n",
       "      <td>126</td>\n",
       "      <td>282</td>\n",
       "      <td>0</td>\n",
       "      <td>2</td>\n",
       "      <td>156</td>\n",
       "      <td>1</td>\n",
       "      <td>0.00</td>\n",
       "      <td>0</td>\n",
       "      <td>0</td>\n",
       "      <td>2</td>\n",
       "      <td>1</td>\n",
       "    </tr>\n",
       "  </tbody>\n",
       "</table>\n",
       "<p>297 rows × 14 columns</p>\n",
       "</div>"
      ],
      "text/plain": [
       "     age  sex  cp  trestbps  chol  fbs  restecg  thalach  exang  oldpeak  \\\n",
       "0     69    1   0       160   234    1        2      131      0     0.10   \n",
       "1     69    0   0       140   239    0        0      151      0     1.80   \n",
       "2     66    0   0       150   226    0        0      114      0     2.60   \n",
       "3     65    1   0       138   282    1        2      174      0     1.40   \n",
       "4     64    1   0       110   211    0        2      144      1     1.80   \n",
       "..   ...  ...  ..       ...   ...  ...      ...      ...    ...      ...   \n",
       "292   40    1   3       152   223    0        0      181      0     0.00   \n",
       "293   39    1   3       118   219    0        0      140      0     1.20   \n",
       "294   35    1   3       120   198    0        0      130      1     1.60   \n",
       "295   35    0   3       138   183    0        0      182      0     1.40   \n",
       "296   35    1   3       126   282    0        2      156      1     0.00   \n",
       "\n",
       "     slope  ca  thal  target  \n",
       "0        1   1     0       0  \n",
       "1        0   2     0       0  \n",
       "2        2   0     0       0  \n",
       "3        1   1     0       1  \n",
       "4        1   0     0       0  \n",
       "..     ...  ..   ...     ...  \n",
       "292      0   0     2       1  \n",
       "293      1   0     2       1  \n",
       "294      1   0     2       1  \n",
       "295      0   0     0       0  \n",
       "296      0   0     2       1  \n",
       "\n",
       "[297 rows x 14 columns]"
      ]
     },
     "execution_count": 104,
     "metadata": {},
     "output_type": "execute_result"
    }
   ],
   "source": [
    "hd = pd.read_csv(\"Heart disease.csv\")\n",
    "hd"
   ]
  },
  {
   "cell_type": "code",
   "execution_count": 105,
   "id": "4012255f",
   "metadata": {},
   "outputs": [
    {
     "data": {
      "text/html": [
       "<div>\n",
       "<style scoped>\n",
       "    .dataframe tbody tr th:only-of-type {\n",
       "        vertical-align: middle;\n",
       "    }\n",
       "\n",
       "    .dataframe tbody tr th {\n",
       "        vertical-align: top;\n",
       "    }\n",
       "\n",
       "    .dataframe thead th {\n",
       "        text-align: right;\n",
       "    }\n",
       "</style>\n",
       "<table border=\"1\" class=\"dataframe\">\n",
       "  <thead>\n",
       "    <tr style=\"text-align: right;\">\n",
       "      <th></th>\n",
       "      <th>age</th>\n",
       "      <th>sex</th>\n",
       "      <th>cp</th>\n",
       "      <th>trestbps</th>\n",
       "      <th>chol</th>\n",
       "      <th>fbs</th>\n",
       "      <th>restecg</th>\n",
       "      <th>thalach</th>\n",
       "      <th>exang</th>\n",
       "      <th>oldpeak</th>\n",
       "      <th>slope</th>\n",
       "      <th>ca</th>\n",
       "      <th>thal</th>\n",
       "      <th>target</th>\n",
       "    </tr>\n",
       "  </thead>\n",
       "  <tbody>\n",
       "    <tr>\n",
       "      <th>0</th>\n",
       "      <td>69</td>\n",
       "      <td>1</td>\n",
       "      <td>0</td>\n",
       "      <td>160</td>\n",
       "      <td>234</td>\n",
       "      <td>1</td>\n",
       "      <td>2</td>\n",
       "      <td>131</td>\n",
       "      <td>0</td>\n",
       "      <td>0.10</td>\n",
       "      <td>1</td>\n",
       "      <td>1</td>\n",
       "      <td>0</td>\n",
       "      <td>0</td>\n",
       "    </tr>\n",
       "    <tr>\n",
       "      <th>1</th>\n",
       "      <td>69</td>\n",
       "      <td>0</td>\n",
       "      <td>0</td>\n",
       "      <td>140</td>\n",
       "      <td>239</td>\n",
       "      <td>0</td>\n",
       "      <td>0</td>\n",
       "      <td>151</td>\n",
       "      <td>0</td>\n",
       "      <td>1.80</td>\n",
       "      <td>0</td>\n",
       "      <td>2</td>\n",
       "      <td>0</td>\n",
       "      <td>0</td>\n",
       "    </tr>\n",
       "    <tr>\n",
       "      <th>2</th>\n",
       "      <td>66</td>\n",
       "      <td>0</td>\n",
       "      <td>0</td>\n",
       "      <td>150</td>\n",
       "      <td>226</td>\n",
       "      <td>0</td>\n",
       "      <td>0</td>\n",
       "      <td>114</td>\n",
       "      <td>0</td>\n",
       "      <td>2.60</td>\n",
       "      <td>2</td>\n",
       "      <td>0</td>\n",
       "      <td>0</td>\n",
       "      <td>0</td>\n",
       "    </tr>\n",
       "    <tr>\n",
       "      <th>3</th>\n",
       "      <td>65</td>\n",
       "      <td>1</td>\n",
       "      <td>0</td>\n",
       "      <td>138</td>\n",
       "      <td>282</td>\n",
       "      <td>1</td>\n",
       "      <td>2</td>\n",
       "      <td>174</td>\n",
       "      <td>0</td>\n",
       "      <td>1.40</td>\n",
       "      <td>1</td>\n",
       "      <td>1</td>\n",
       "      <td>0</td>\n",
       "      <td>1</td>\n",
       "    </tr>\n",
       "    <tr>\n",
       "      <th>4</th>\n",
       "      <td>64</td>\n",
       "      <td>1</td>\n",
       "      <td>0</td>\n",
       "      <td>110</td>\n",
       "      <td>211</td>\n",
       "      <td>0</td>\n",
       "      <td>2</td>\n",
       "      <td>144</td>\n",
       "      <td>1</td>\n",
       "      <td>1.80</td>\n",
       "      <td>1</td>\n",
       "      <td>0</td>\n",
       "      <td>0</td>\n",
       "      <td>0</td>\n",
       "    </tr>\n",
       "  </tbody>\n",
       "</table>\n",
       "</div>"
      ],
      "text/plain": [
       "   age  sex  cp  trestbps  chol  fbs  restecg  thalach  exang  oldpeak  slope  \\\n",
       "0   69    1   0       160   234    1        2      131      0     0.10      1   \n",
       "1   69    0   0       140   239    0        0      151      0     1.80      0   \n",
       "2   66    0   0       150   226    0        0      114      0     2.60      2   \n",
       "3   65    1   0       138   282    1        2      174      0     1.40      1   \n",
       "4   64    1   0       110   211    0        2      144      1     1.80      1   \n",
       "\n",
       "   ca  thal  target  \n",
       "0   1     0       0  \n",
       "1   2     0       0  \n",
       "2   0     0       0  \n",
       "3   1     0       1  \n",
       "4   0     0       0  "
      ]
     },
     "execution_count": 105,
     "metadata": {},
     "output_type": "execute_result"
    }
   ],
   "source": [
    "hd.head()"
   ]
  },
  {
   "cell_type": "code",
   "execution_count": 106,
   "id": "d0389622",
   "metadata": {},
   "outputs": [
    {
     "name": "stdout",
     "output_type": "stream",
     "text": [
      "<class 'pandas.core.frame.DataFrame'>\n",
      "RangeIndex: 297 entries, 0 to 296\n",
      "Data columns (total 14 columns):\n",
      " #   Column    Non-Null Count  Dtype  \n",
      "---  ------    --------------  -----  \n",
      " 0   age       297 non-null    int64  \n",
      " 1   sex       297 non-null    int64  \n",
      " 2   cp        297 non-null    int64  \n",
      " 3   trestbps  297 non-null    int64  \n",
      " 4   chol      297 non-null    int64  \n",
      " 5   fbs       297 non-null    int64  \n",
      " 6   restecg   297 non-null    int64  \n",
      " 7   thalach   297 non-null    int64  \n",
      " 8   exang     297 non-null    int64  \n",
      " 9   oldpeak   297 non-null    float64\n",
      " 10  slope     297 non-null    int64  \n",
      " 11  ca        297 non-null    int64  \n",
      " 12  thal      297 non-null    int64  \n",
      " 13  target    297 non-null    int64  \n",
      "dtypes: float64(1), int64(13)\n",
      "memory usage: 32.6 KB\n"
     ]
    }
   ],
   "source": [
    "hd.info()"
   ]
  },
  {
   "cell_type": "code",
   "execution_count": 107,
   "id": "e6cdbc4c",
   "metadata": {},
   "outputs": [
    {
     "data": {
      "text/plain": [
       "(297, 14)"
      ]
     },
     "execution_count": 107,
     "metadata": {},
     "output_type": "execute_result"
    }
   ],
   "source": [
    "hd.shape"
   ]
  },
  {
   "cell_type": "code",
   "execution_count": 108,
   "id": "29393625",
   "metadata": {},
   "outputs": [
    {
     "data": {
      "text/plain": [
       "Index(['age', 'sex', 'cp', 'trestbps', 'chol', 'fbs', 'restecg', 'thalach',\n",
       "       'exang', 'oldpeak', 'slope', 'ca', 'thal', 'target'],\n",
       "      dtype='object')"
      ]
     },
     "execution_count": 108,
     "metadata": {},
     "output_type": "execute_result"
    }
   ],
   "source": [
    "hd.columns"
   ]
  },
  {
   "cell_type": "code",
   "execution_count": 109,
   "id": "18aec55d",
   "metadata": {},
   "outputs": [
    {
     "data": {
      "text/plain": [
       "pandas.core.frame.DataFrame"
      ]
     },
     "execution_count": 109,
     "metadata": {},
     "output_type": "execute_result"
    }
   ],
   "source": [
    "type(hd)"
   ]
  },
  {
   "cell_type": "code",
   "execution_count": 110,
   "id": "4dc377e1",
   "metadata": {},
   "outputs": [
    {
     "data": {
      "text/plain": [
       "age         0\n",
       "sex         0\n",
       "cp          0\n",
       "trestbps    0\n",
       "chol        0\n",
       "fbs         0\n",
       "restecg     0\n",
       "thalach     0\n",
       "exang       0\n",
       "oldpeak     0\n",
       "slope       0\n",
       "ca          0\n",
       "thal        0\n",
       "target      0\n",
       "dtype: int64"
      ]
     },
     "execution_count": 110,
     "metadata": {},
     "output_type": "execute_result"
    }
   ],
   "source": [
    "hd.isnull().sum()"
   ]
  },
  {
   "cell_type": "code",
   "execution_count": 111,
   "id": "7b2e8edf",
   "metadata": {},
   "outputs": [
    {
     "data": {
      "text/html": [
       "<div>\n",
       "<style scoped>\n",
       "    .dataframe tbody tr th:only-of-type {\n",
       "        vertical-align: middle;\n",
       "    }\n",
       "\n",
       "    .dataframe tbody tr th {\n",
       "        vertical-align: top;\n",
       "    }\n",
       "\n",
       "    .dataframe thead th {\n",
       "        text-align: right;\n",
       "    }\n",
       "</style>\n",
       "<table border=\"1\" class=\"dataframe\">\n",
       "  <thead>\n",
       "    <tr style=\"text-align: right;\">\n",
       "      <th></th>\n",
       "      <th>age</th>\n",
       "      <th>sex</th>\n",
       "      <th>cp</th>\n",
       "      <th>trestbps</th>\n",
       "      <th>chol</th>\n",
       "      <th>fbs</th>\n",
       "      <th>restecg</th>\n",
       "      <th>thalach</th>\n",
       "      <th>exang</th>\n",
       "      <th>oldpeak</th>\n",
       "      <th>slope</th>\n",
       "      <th>ca</th>\n",
       "      <th>thal</th>\n",
       "      <th>target</th>\n",
       "    </tr>\n",
       "  </thead>\n",
       "  <tbody>\n",
       "    <tr>\n",
       "      <th>0</th>\n",
       "      <td>69</td>\n",
       "      <td>1</td>\n",
       "      <td>0</td>\n",
       "      <td>160</td>\n",
       "      <td>234</td>\n",
       "      <td>1</td>\n",
       "      <td>2</td>\n",
       "      <td>131</td>\n",
       "      <td>0</td>\n",
       "      <td>0.10</td>\n",
       "      <td>1</td>\n",
       "      <td>1</td>\n",
       "      <td>0</td>\n",
       "      <td>0</td>\n",
       "    </tr>\n",
       "    <tr>\n",
       "      <th>1</th>\n",
       "      <td>69</td>\n",
       "      <td>0</td>\n",
       "      <td>0</td>\n",
       "      <td>140</td>\n",
       "      <td>239</td>\n",
       "      <td>0</td>\n",
       "      <td>0</td>\n",
       "      <td>151</td>\n",
       "      <td>0</td>\n",
       "      <td>1.80</td>\n",
       "      <td>0</td>\n",
       "      <td>2</td>\n",
       "      <td>0</td>\n",
       "      <td>0</td>\n",
       "    </tr>\n",
       "    <tr>\n",
       "      <th>2</th>\n",
       "      <td>66</td>\n",
       "      <td>0</td>\n",
       "      <td>0</td>\n",
       "      <td>150</td>\n",
       "      <td>226</td>\n",
       "      <td>0</td>\n",
       "      <td>0</td>\n",
       "      <td>114</td>\n",
       "      <td>0</td>\n",
       "      <td>2.60</td>\n",
       "      <td>2</td>\n",
       "      <td>0</td>\n",
       "      <td>0</td>\n",
       "      <td>0</td>\n",
       "    </tr>\n",
       "    <tr>\n",
       "      <th>3</th>\n",
       "      <td>65</td>\n",
       "      <td>1</td>\n",
       "      <td>0</td>\n",
       "      <td>138</td>\n",
       "      <td>282</td>\n",
       "      <td>1</td>\n",
       "      <td>2</td>\n",
       "      <td>174</td>\n",
       "      <td>0</td>\n",
       "      <td>1.40</td>\n",
       "      <td>1</td>\n",
       "      <td>1</td>\n",
       "      <td>0</td>\n",
       "      <td>1</td>\n",
       "    </tr>\n",
       "    <tr>\n",
       "      <th>4</th>\n",
       "      <td>64</td>\n",
       "      <td>1</td>\n",
       "      <td>0</td>\n",
       "      <td>110</td>\n",
       "      <td>211</td>\n",
       "      <td>0</td>\n",
       "      <td>2</td>\n",
       "      <td>144</td>\n",
       "      <td>1</td>\n",
       "      <td>1.80</td>\n",
       "      <td>1</td>\n",
       "      <td>0</td>\n",
       "      <td>0</td>\n",
       "      <td>0</td>\n",
       "    </tr>\n",
       "  </tbody>\n",
       "</table>\n",
       "</div>"
      ],
      "text/plain": [
       "   age  sex  cp  trestbps  chol  fbs  restecg  thalach  exang  oldpeak  slope  \\\n",
       "0   69    1   0       160   234    1        2      131      0     0.10      1   \n",
       "1   69    0   0       140   239    0        0      151      0     1.80      0   \n",
       "2   66    0   0       150   226    0        0      114      0     2.60      2   \n",
       "3   65    1   0       138   282    1        2      174      0     1.40      1   \n",
       "4   64    1   0       110   211    0        2      144      1     1.80      1   \n",
       "\n",
       "   ca  thal  target  \n",
       "0   1     0       0  \n",
       "1   2     0       0  \n",
       "2   0     0       0  \n",
       "3   1     0       1  \n",
       "4   0     0       0  "
      ]
     },
     "execution_count": 111,
     "metadata": {},
     "output_type": "execute_result"
    }
   ],
   "source": [
    "hd.head()"
   ]
  },
  {
   "cell_type": "markdown",
   "id": "33d4c551",
   "metadata": {},
   "source": [
    "# EDA (Exploratory Data Analysis)\n",
    "Using Data Visualization\n",
    "\n",
    "1.age: Patients age in years\n",
    "\n",
    "2.sex : Female or male (1-Male,0-Female)\n",
    "\n",
    "3.cp :Chest pain ( 1- Typical Angina, 2-Atypical Angina,3-Non- anginal pain, 4-Asymptomatic)\n",
    "\n",
    "4.trestbp: Resting BloodPressure\n",
    "\n",
    "5.chol :Cholestrol\n",
    "\n",
    "6.fbs : Fasting Blood Sugar( >120 mg/dl, 1-True, 0 - False)\n",
    "\n",
    "7.restecg : Resting electrocardiographic measurement (0 = normal, 1 = having ST-T wave abnormality, 2 = showing probable or definite left ventricular hypertrophy by Estes' criteria)\n",
    "\n",
    "8.thalach :The person's maximum heart rate achieved\n",
    "\n",
    "9.exang : Exercise induced angina (1 = yes; 0 = no)\n",
    "\n",
    "10.oldpeak: ST depression induced by exercise relative to rest ('ST' relates to positions on the ECG plot. See more here)\n",
    "\n",
    "11.slope : the slope of the peak exercise ST segment (Value 1: upsloping, Value 2: flat, Value 3: downsloping)\n",
    "\n",
    "12.ca :The number of major vessels (0-3)\n",
    "\n",
    "13.thal : A blood disorder called thalassemia (3 = normal; 6 = fixed defect; 7 = reversable defect)\n",
    "\n",
    "14.target : Heart disease (0 = no, 1 = yes)"
   ]
  },
  {
   "cell_type": "code",
   "execution_count": 112,
   "id": "62ef582c",
   "metadata": {},
   "outputs": [
    {
     "data": {
      "text/html": [
       "<div>\n",
       "<style scoped>\n",
       "    .dataframe tbody tr th:only-of-type {\n",
       "        vertical-align: middle;\n",
       "    }\n",
       "\n",
       "    .dataframe tbody tr th {\n",
       "        vertical-align: top;\n",
       "    }\n",
       "\n",
       "    .dataframe thead th {\n",
       "        text-align: right;\n",
       "    }\n",
       "</style>\n",
       "<table border=\"1\" class=\"dataframe\">\n",
       "  <thead>\n",
       "    <tr style=\"text-align: right;\">\n",
       "      <th></th>\n",
       "      <th>age</th>\n",
       "      <th>sex</th>\n",
       "      <th>cp</th>\n",
       "      <th>trestbps</th>\n",
       "      <th>chol</th>\n",
       "      <th>fbs</th>\n",
       "      <th>restecg</th>\n",
       "      <th>thalach</th>\n",
       "      <th>exang</th>\n",
       "      <th>oldpeak</th>\n",
       "      <th>slope</th>\n",
       "      <th>ca</th>\n",
       "      <th>thal</th>\n",
       "      <th>target</th>\n",
       "    </tr>\n",
       "  </thead>\n",
       "  <tbody>\n",
       "    <tr>\n",
       "      <th>count</th>\n",
       "      <td>297.00</td>\n",
       "      <td>297.00</td>\n",
       "      <td>297.00</td>\n",
       "      <td>297.00</td>\n",
       "      <td>297.00</td>\n",
       "      <td>297.00</td>\n",
       "      <td>297.00</td>\n",
       "      <td>297.00</td>\n",
       "      <td>297.00</td>\n",
       "      <td>297.00</td>\n",
       "      <td>297.00</td>\n",
       "      <td>297.00</td>\n",
       "      <td>297.00</td>\n",
       "      <td>297.00</td>\n",
       "    </tr>\n",
       "    <tr>\n",
       "      <th>mean</th>\n",
       "      <td>54.54</td>\n",
       "      <td>0.68</td>\n",
       "      <td>2.16</td>\n",
       "      <td>131.69</td>\n",
       "      <td>247.35</td>\n",
       "      <td>0.14</td>\n",
       "      <td>1.00</td>\n",
       "      <td>149.60</td>\n",
       "      <td>0.33</td>\n",
       "      <td>1.06</td>\n",
       "      <td>0.60</td>\n",
       "      <td>0.68</td>\n",
       "      <td>0.84</td>\n",
       "      <td>0.46</td>\n",
       "    </tr>\n",
       "    <tr>\n",
       "      <th>std</th>\n",
       "      <td>9.05</td>\n",
       "      <td>0.47</td>\n",
       "      <td>0.96</td>\n",
       "      <td>17.76</td>\n",
       "      <td>52.00</td>\n",
       "      <td>0.35</td>\n",
       "      <td>0.99</td>\n",
       "      <td>22.94</td>\n",
       "      <td>0.47</td>\n",
       "      <td>1.17</td>\n",
       "      <td>0.62</td>\n",
       "      <td>0.94</td>\n",
       "      <td>0.96</td>\n",
       "      <td>0.50</td>\n",
       "    </tr>\n",
       "    <tr>\n",
       "      <th>min</th>\n",
       "      <td>29.00</td>\n",
       "      <td>0.00</td>\n",
       "      <td>0.00</td>\n",
       "      <td>94.00</td>\n",
       "      <td>126.00</td>\n",
       "      <td>0.00</td>\n",
       "      <td>0.00</td>\n",
       "      <td>71.00</td>\n",
       "      <td>0.00</td>\n",
       "      <td>0.00</td>\n",
       "      <td>0.00</td>\n",
       "      <td>0.00</td>\n",
       "      <td>0.00</td>\n",
       "      <td>0.00</td>\n",
       "    </tr>\n",
       "    <tr>\n",
       "      <th>25%</th>\n",
       "      <td>48.00</td>\n",
       "      <td>0.00</td>\n",
       "      <td>2.00</td>\n",
       "      <td>120.00</td>\n",
       "      <td>211.00</td>\n",
       "      <td>0.00</td>\n",
       "      <td>0.00</td>\n",
       "      <td>133.00</td>\n",
       "      <td>0.00</td>\n",
       "      <td>0.00</td>\n",
       "      <td>0.00</td>\n",
       "      <td>0.00</td>\n",
       "      <td>0.00</td>\n",
       "      <td>0.00</td>\n",
       "    </tr>\n",
       "    <tr>\n",
       "      <th>50%</th>\n",
       "      <td>56.00</td>\n",
       "      <td>1.00</td>\n",
       "      <td>2.00</td>\n",
       "      <td>130.00</td>\n",
       "      <td>243.00</td>\n",
       "      <td>0.00</td>\n",
       "      <td>1.00</td>\n",
       "      <td>153.00</td>\n",
       "      <td>0.00</td>\n",
       "      <td>0.80</td>\n",
       "      <td>1.00</td>\n",
       "      <td>0.00</td>\n",
       "      <td>0.00</td>\n",
       "      <td>0.00</td>\n",
       "    </tr>\n",
       "    <tr>\n",
       "      <th>75%</th>\n",
       "      <td>61.00</td>\n",
       "      <td>1.00</td>\n",
       "      <td>3.00</td>\n",
       "      <td>140.00</td>\n",
       "      <td>276.00</td>\n",
       "      <td>0.00</td>\n",
       "      <td>2.00</td>\n",
       "      <td>166.00</td>\n",
       "      <td>1.00</td>\n",
       "      <td>1.60</td>\n",
       "      <td>1.00</td>\n",
       "      <td>1.00</td>\n",
       "      <td>2.00</td>\n",
       "      <td>1.00</td>\n",
       "    </tr>\n",
       "    <tr>\n",
       "      <th>max</th>\n",
       "      <td>77.00</td>\n",
       "      <td>1.00</td>\n",
       "      <td>3.00</td>\n",
       "      <td>200.00</td>\n",
       "      <td>564.00</td>\n",
       "      <td>1.00</td>\n",
       "      <td>2.00</td>\n",
       "      <td>202.00</td>\n",
       "      <td>1.00</td>\n",
       "      <td>6.20</td>\n",
       "      <td>2.00</td>\n",
       "      <td>3.00</td>\n",
       "      <td>2.00</td>\n",
       "      <td>1.00</td>\n",
       "    </tr>\n",
       "  </tbody>\n",
       "</table>\n",
       "</div>"
      ],
      "text/plain": [
       "         age    sex     cp  trestbps   chol    fbs  restecg  thalach  exang  \\\n",
       "count 297.00 297.00 297.00    297.00 297.00 297.00   297.00   297.00 297.00   \n",
       "mean   54.54   0.68   2.16    131.69 247.35   0.14     1.00   149.60   0.33   \n",
       "std     9.05   0.47   0.96     17.76  52.00   0.35     0.99    22.94   0.47   \n",
       "min    29.00   0.00   0.00     94.00 126.00   0.00     0.00    71.00   0.00   \n",
       "25%    48.00   0.00   2.00    120.00 211.00   0.00     0.00   133.00   0.00   \n",
       "50%    56.00   1.00   2.00    130.00 243.00   0.00     1.00   153.00   0.00   \n",
       "75%    61.00   1.00   3.00    140.00 276.00   0.00     2.00   166.00   1.00   \n",
       "max    77.00   1.00   3.00    200.00 564.00   1.00     2.00   202.00   1.00   \n",
       "\n",
       "       oldpeak  slope     ca   thal  target  \n",
       "count   297.00 297.00 297.00 297.00  297.00  \n",
       "mean      1.06   0.60   0.68   0.84    0.46  \n",
       "std       1.17   0.62   0.94   0.96    0.50  \n",
       "min       0.00   0.00   0.00   0.00    0.00  \n",
       "25%       0.00   0.00   0.00   0.00    0.00  \n",
       "50%       0.80   1.00   0.00   0.00    0.00  \n",
       "75%       1.60   1.00   1.00   2.00    1.00  \n",
       "max       6.20   2.00   3.00   2.00    1.00  "
      ]
     },
     "execution_count": 112,
     "metadata": {},
     "output_type": "execute_result"
    }
   ],
   "source": [
    "hd.describe()"
   ]
  },
  {
   "cell_type": "code",
   "execution_count": 113,
   "id": "61ff47de",
   "metadata": {},
   "outputs": [],
   "source": [
    "pd.set_option('display.float_format','{:.2f}'.format)"
   ]
  },
  {
   "cell_type": "code",
   "execution_count": 114,
   "id": "2a112cc5",
   "metadata": {},
   "outputs": [
    {
     "data": {
      "text/html": [
       "<div>\n",
       "<style scoped>\n",
       "    .dataframe tbody tr th:only-of-type {\n",
       "        vertical-align: middle;\n",
       "    }\n",
       "\n",
       "    .dataframe tbody tr th {\n",
       "        vertical-align: top;\n",
       "    }\n",
       "\n",
       "    .dataframe thead th {\n",
       "        text-align: right;\n",
       "    }\n",
       "</style>\n",
       "<table border=\"1\" class=\"dataframe\">\n",
       "  <thead>\n",
       "    <tr style=\"text-align: right;\">\n",
       "      <th></th>\n",
       "      <th>age</th>\n",
       "      <th>sex</th>\n",
       "      <th>cp</th>\n",
       "      <th>trestbps</th>\n",
       "      <th>chol</th>\n",
       "      <th>fbs</th>\n",
       "      <th>restecg</th>\n",
       "      <th>thalach</th>\n",
       "      <th>exang</th>\n",
       "      <th>oldpeak</th>\n",
       "      <th>slope</th>\n",
       "      <th>ca</th>\n",
       "      <th>thal</th>\n",
       "      <th>target</th>\n",
       "    </tr>\n",
       "  </thead>\n",
       "  <tbody>\n",
       "    <tr>\n",
       "      <th>count</th>\n",
       "      <td>297.00</td>\n",
       "      <td>297.00</td>\n",
       "      <td>297.00</td>\n",
       "      <td>297.00</td>\n",
       "      <td>297.00</td>\n",
       "      <td>297.00</td>\n",
       "      <td>297.00</td>\n",
       "      <td>297.00</td>\n",
       "      <td>297.00</td>\n",
       "      <td>297.00</td>\n",
       "      <td>297.00</td>\n",
       "      <td>297.00</td>\n",
       "      <td>297.00</td>\n",
       "      <td>297.00</td>\n",
       "    </tr>\n",
       "    <tr>\n",
       "      <th>mean</th>\n",
       "      <td>54.54</td>\n",
       "      <td>0.68</td>\n",
       "      <td>2.16</td>\n",
       "      <td>131.69</td>\n",
       "      <td>247.35</td>\n",
       "      <td>0.14</td>\n",
       "      <td>1.00</td>\n",
       "      <td>149.60</td>\n",
       "      <td>0.33</td>\n",
       "      <td>1.06</td>\n",
       "      <td>0.60</td>\n",
       "      <td>0.68</td>\n",
       "      <td>0.84</td>\n",
       "      <td>0.46</td>\n",
       "    </tr>\n",
       "    <tr>\n",
       "      <th>std</th>\n",
       "      <td>9.05</td>\n",
       "      <td>0.47</td>\n",
       "      <td>0.96</td>\n",
       "      <td>17.76</td>\n",
       "      <td>52.00</td>\n",
       "      <td>0.35</td>\n",
       "      <td>0.99</td>\n",
       "      <td>22.94</td>\n",
       "      <td>0.47</td>\n",
       "      <td>1.17</td>\n",
       "      <td>0.62</td>\n",
       "      <td>0.94</td>\n",
       "      <td>0.96</td>\n",
       "      <td>0.50</td>\n",
       "    </tr>\n",
       "    <tr>\n",
       "      <th>min</th>\n",
       "      <td>29.00</td>\n",
       "      <td>0.00</td>\n",
       "      <td>0.00</td>\n",
       "      <td>94.00</td>\n",
       "      <td>126.00</td>\n",
       "      <td>0.00</td>\n",
       "      <td>0.00</td>\n",
       "      <td>71.00</td>\n",
       "      <td>0.00</td>\n",
       "      <td>0.00</td>\n",
       "      <td>0.00</td>\n",
       "      <td>0.00</td>\n",
       "      <td>0.00</td>\n",
       "      <td>0.00</td>\n",
       "    </tr>\n",
       "    <tr>\n",
       "      <th>25%</th>\n",
       "      <td>48.00</td>\n",
       "      <td>0.00</td>\n",
       "      <td>2.00</td>\n",
       "      <td>120.00</td>\n",
       "      <td>211.00</td>\n",
       "      <td>0.00</td>\n",
       "      <td>0.00</td>\n",
       "      <td>133.00</td>\n",
       "      <td>0.00</td>\n",
       "      <td>0.00</td>\n",
       "      <td>0.00</td>\n",
       "      <td>0.00</td>\n",
       "      <td>0.00</td>\n",
       "      <td>0.00</td>\n",
       "    </tr>\n",
       "    <tr>\n",
       "      <th>50%</th>\n",
       "      <td>56.00</td>\n",
       "      <td>1.00</td>\n",
       "      <td>2.00</td>\n",
       "      <td>130.00</td>\n",
       "      <td>243.00</td>\n",
       "      <td>0.00</td>\n",
       "      <td>1.00</td>\n",
       "      <td>153.00</td>\n",
       "      <td>0.00</td>\n",
       "      <td>0.80</td>\n",
       "      <td>1.00</td>\n",
       "      <td>0.00</td>\n",
       "      <td>0.00</td>\n",
       "      <td>0.00</td>\n",
       "    </tr>\n",
       "    <tr>\n",
       "      <th>75%</th>\n",
       "      <td>61.00</td>\n",
       "      <td>1.00</td>\n",
       "      <td>3.00</td>\n",
       "      <td>140.00</td>\n",
       "      <td>276.00</td>\n",
       "      <td>0.00</td>\n",
       "      <td>2.00</td>\n",
       "      <td>166.00</td>\n",
       "      <td>1.00</td>\n",
       "      <td>1.60</td>\n",
       "      <td>1.00</td>\n",
       "      <td>1.00</td>\n",
       "      <td>2.00</td>\n",
       "      <td>1.00</td>\n",
       "    </tr>\n",
       "    <tr>\n",
       "      <th>max</th>\n",
       "      <td>77.00</td>\n",
       "      <td>1.00</td>\n",
       "      <td>3.00</td>\n",
       "      <td>200.00</td>\n",
       "      <td>564.00</td>\n",
       "      <td>1.00</td>\n",
       "      <td>2.00</td>\n",
       "      <td>202.00</td>\n",
       "      <td>1.00</td>\n",
       "      <td>6.20</td>\n",
       "      <td>2.00</td>\n",
       "      <td>3.00</td>\n",
       "      <td>2.00</td>\n",
       "      <td>1.00</td>\n",
       "    </tr>\n",
       "  </tbody>\n",
       "</table>\n",
       "</div>"
      ],
      "text/plain": [
       "         age    sex     cp  trestbps   chol    fbs  restecg  thalach  exang  \\\n",
       "count 297.00 297.00 297.00    297.00 297.00 297.00   297.00   297.00 297.00   \n",
       "mean   54.54   0.68   2.16    131.69 247.35   0.14     1.00   149.60   0.33   \n",
       "std     9.05   0.47   0.96     17.76  52.00   0.35     0.99    22.94   0.47   \n",
       "min    29.00   0.00   0.00     94.00 126.00   0.00     0.00    71.00   0.00   \n",
       "25%    48.00   0.00   2.00    120.00 211.00   0.00     0.00   133.00   0.00   \n",
       "50%    56.00   1.00   2.00    130.00 243.00   0.00     1.00   153.00   0.00   \n",
       "75%    61.00   1.00   3.00    140.00 276.00   0.00     2.00   166.00   1.00   \n",
       "max    77.00   1.00   3.00    200.00 564.00   1.00     2.00   202.00   1.00   \n",
       "\n",
       "       oldpeak  slope     ca   thal  target  \n",
       "count   297.00 297.00 297.00 297.00  297.00  \n",
       "mean      1.06   0.60   0.68   0.84    0.46  \n",
       "std       1.17   0.62   0.94   0.96    0.50  \n",
       "min       0.00   0.00   0.00   0.00    0.00  \n",
       "25%       0.00   0.00   0.00   0.00    0.00  \n",
       "50%       0.80   1.00   0.00   0.00    0.00  \n",
       "75%       1.60   1.00   1.00   2.00    1.00  \n",
       "max       6.20   2.00   3.00   2.00    1.00  "
      ]
     },
     "execution_count": 114,
     "metadata": {},
     "output_type": "execute_result"
    }
   ],
   "source": [
    "hd.describe()"
   ]
  },
  {
   "cell_type": "code",
   "execution_count": 115,
   "id": "f57bccc7",
   "metadata": {},
   "outputs": [
    {
     "data": {
      "text/plain": [
       "0    160\n",
       "1    137\n",
       "Name: target, dtype: int64"
      ]
     },
     "execution_count": 115,
     "metadata": {},
     "output_type": "execute_result"
    }
   ],
   "source": [
    "hd['target'].value_counts()"
   ]
  },
  {
   "cell_type": "code",
   "execution_count": 116,
   "id": "9b99b5ca",
   "metadata": {},
   "outputs": [
    {
     "data": {
      "text/plain": [
       "(297, 14)"
      ]
     },
     "execution_count": 116,
     "metadata": {},
     "output_type": "execute_result"
    }
   ],
   "source": [
    "hd.shape"
   ]
  },
  {
   "cell_type": "code",
   "execution_count": 117,
   "id": "4fb60efe",
   "metadata": {},
   "outputs": [
    {
     "data": {
      "text/plain": [
       "0   53.87\n",
       "1   46.13\n",
       "Name: target, dtype: float64"
      ]
     },
     "execution_count": 117,
     "metadata": {},
     "output_type": "execute_result"
    }
   ],
   "source": [
    "hd['target'].value_counts()/hd.shape[0]*100"
   ]
  },
  {
   "cell_type": "code",
   "execution_count": 118,
   "id": "66b84821",
   "metadata": {},
   "outputs": [
    {
     "data": {
      "image/png": "[encoded data removed]",
      "text/plain": [
       "<Figure size 360x288 with 1 Axes>"
      ]
     },
     "metadata": {},
     "output_type": "display_data"
    }
   ],
   "source": [
    "# percentage of positive and negative heart diseases\n",
    "labels = ['yes', 'No']\n",
    "values = hd['target'].value_counts().values\n",
    "\n",
    "plt.pie(values, labels=labels, autopct='%1.0f%%')\n",
    "plt.title('Heart Disease')\n",
    "plt.show()"
   ]
  },
  {
   "cell_type": "markdown",
   "id": "b6290be7",
   "metadata": {},
   "source": [
    "# Histagram plot for all feature "
   ]
  },
  {
   "cell_type": "code",
   "execution_count": 119,
   "id": "b9f74bf5",
   "metadata": {},
   "outputs": [
    {
     "data": {
      "image/png": "[encoded data removed]",
      "text/plain": [
       "<Figure size 401.625x360 with 1 Axes>"
      ]
     },
     "metadata": {},
     "output_type": "display_data"
    }
   ],
   "source": [
    "sns.catplot('target', data=hd, hue='sex', kind='count')\n",
    "plt.xticks(np.arange(2), (\"1-Not Healthy\", \"0-Healthy\"),rotation=0);"
   ]
  },
  {
   "cell_type": "code",
   "execution_count": 120,
   "id": "61f3299f",
   "metadata": {},
   "outputs": [
    {
     "data": {
      "text/plain": [
       "1    201\n",
       "0     96\n",
       "Name: sex, dtype: int64"
      ]
     },
     "execution_count": 120,
     "metadata": {},
     "output_type": "execute_result"
    }
   ],
   "source": [
    "hd['sex'].value_counts()"
   ]
  },
  {
   "cell_type": "markdown",
   "id": "b2ecd28b",
   "metadata": {},
   "source": [
    "From the above Histogram plots we can conclude Age, Cholestrol, Resting blood pressure and person's maximum heart rate achieved plays major role in detection of Heart Disease.\n",
    "\n",
    "From the another plot we can conclude that number of men are majorly having Heart disease than compared to females.And also men are more healthier than females"
   ]
  },
  {
   "cell_type": "code",
   "execution_count": 121,
   "id": "db9d1ddf",
   "metadata": {},
   "outputs": [
    {
     "data": {
      "image/png": "[encoded data removed]",
      "text/plain": [
       "<Figure size 360x288 with 1 Axes>"
      ]
     },
     "metadata": {},
     "output_type": "display_data"
    }
   ],
   "source": [
    "hd['cp'].value_counts().plot(kind='bar',color=[\"deeppink\",\"salmon\"])\n",
    "plt.xticks(np.arange(2), (\"1-Not Healthy\", \"0-Healthy\"),rotation=0);"
   ]
  },
  {
   "cell_type": "code",
   "execution_count": 122,
   "id": "5b34c944",
   "metadata": {},
   "outputs": [
    {
     "name": "stdout",
     "output_type": "stream",
     "text": [
      "==============================\n",
      "age : [69 66 65 64 63 61 60 59 58 56 52 51 45 42 40 38 34 74 71 70 62 57 55 54\n",
      " 50 49 48 46 44 41 35 29 76 68 67 53 47 43 39 37 77]\n",
      "==============================\n",
      "sex : [1 0]\n",
      "==============================\n",
      "cp : [0 1 2 3]\n",
      "==============================\n",
      "trestbps : [160 140 150 138 110 170 145 134 178 120 118 152 125 148 156 128 136 130\n",
      " 124 154 135 132 108 192 101 105 112 126 122 180 115 146 155 102 172 100\n",
      "  94 129 142 144 106 117 158 174 164 114 165 200 123 104]\n",
      "==============================\n",
      "chol : [234 239 226 282 211 227 233 240 270 288 273 204 283 193 186 298 213 264\n",
      " 244 199 231 182 269 302 245 246 195 281 208 221 284 319 236 261 232 294\n",
      " 250 262 342 309 325 201 205 271 266 229 197 160 308 263 219 220 295 203\n",
      " 198 235 306 157 192 210 265 254 274 277 564 212 278 417 360 335 313 252\n",
      " 243 185 318 178 218 230 224 340 168 126 256 258 214 304 267 196 222 175\n",
      " 188 149 275 255 257 253 177 141 242 315 209 180 268 321 215 174 322 286\n",
      " 299 237 223 228 225 248 303 407 330 187 164 394 260 307 166 207 206 293\n",
      " 305 326 249 176 216 259 300 276 289 241 131 354 184 409 217 353 327 200\n",
      " 311 169 290 341 247 172 167 183]\n",
      "==============================\n",
      "fbs : [1 0]\n",
      "==============================\n",
      "restecg : [2 0 1]\n",
      "==============================\n",
      "thalach : [131 151 114 174 144 155 150 145 171 159 125 162 190 178 132 182 121 143\n",
      " 120 179 103 140 164 160 152 141 169 153 163 161 166 156 195 172 158 184\n",
      " 168 180 175 138 170 173 188 192 202 116 130 112 146 115 157 148 133  97\n",
      " 137  96 134 165 154 142 147 167 123 149 139 126 194 187 109 108 129  71\n",
      " 127 122 105 136  99 106  90 111 124  88 117 113  95 186 128 118 185 177\n",
      " 181]\n",
      "==============================\n",
      "exang : [0 1]\n",
      "==============================\n",
      "oldpeak : [0.1 1.8 2.6 1.4 0.6 2.3 0.9 4.2 0.2 0.  0.8 1.  1.9 1.2 3.8 0.4 0.3 1.3\n",
      " 1.1 0.7 2.9 2.  1.6 1.5 3.  2.2 2.5 3.2 0.5 2.4 3.6 3.5 3.4 2.8 4.  6.2\n",
      " 4.4 2.1 5.6 3.1]\n",
      "==============================\n",
      "slope : [1 0 2]\n",
      "==============================\n",
      "ca : [1 2 0 3]\n",
      "==============================\n",
      "thal : [0 2 1]\n",
      "==============================\n",
      "target : [0 1]\n"
     ]
    }
   ],
   "source": [
    "# Possibility of having Heart Disease \n",
    "#Creating a Function for unique values in data\n",
    "categorical_values = []\n",
    "for column in hd.columns:\n",
    "    print('==============================')\n",
    "    print(f\"{column} : {hd[column].unique()}\")\n",
    "    if len(hd[column].unique()) <= 10:\n",
    "        categorical_values.append(column)"
   ]
  },
  {
   "cell_type": "code",
   "execution_count": 123,
   "id": "1a0fbfe9",
   "metadata": {},
   "outputs": [
    {
     "data": {
      "image/png": "[encoded data removed]",
      "text/plain": [
       "<Figure size 864x864 with 9 Axes>"
      ]
     },
     "metadata": {},
     "output_type": "display_data"
    }
   ],
   "source": [
    "plt.figure(figsize=(12,  12))\n",
    "for i, column in enumerate(categorical_values, 1):\n",
    "    plt.subplot(3, 3, i)\n",
    "    sns.barplot(x=f\"{column}\", y='target', data=hd)\n",
    "    plt.ylabel('Possibility to have heart disease')\n",
    "    plt.xlabel(f'{column}')"
   ]
  },
  {
   "cell_type": "markdown",
   "id": "9b535e88",
   "metadata": {},
   "source": [
    "The possibility of having Heart Disease can be judged from the above barplots."
   ]
  },
  {
   "cell_type": "code",
   "execution_count": 124,
   "id": "780c434b",
   "metadata": {},
   "outputs": [
    {
     "data": {
      "image/png": "[encoded data removed]",
      "text/plain": [
       "<Figure size 576x576 with 1 Axes>"
      ]
     },
     "metadata": {},
     "output_type": "display_data"
    }
   ],
   "source": [
    "# Comparing resting blood pressure with target\n",
    "\n",
    "pd.crosstab(hd.trestbps[::15],hd.target).plot(kind=\"bar\",figsize=(8,8),color=[\"deeppink\",\"blue\"])\n",
    "plt.ylabel(\"patients\");\n",
    "plt.xticks(rotation=0);\n",
    "plt.legend(['0', '1']);  "
   ]
  },
  {
   "cell_type": "code",
   "execution_count": 125,
   "id": "5199ba13",
   "metadata": {},
   "outputs": [
    {
     "data": {
      "image/png": "[encoded data removed]",
      "text/plain": [
       "<Figure size 576x576 with 1 Axes>"
      ]
     },
     "metadata": {},
     "output_type": "display_data"
    }
   ],
   "source": [
    "# Comparing cholestrol with target\n",
    "#cp :Chest pain ( 1- Typical Angina, 2-Atypical Angina,3- Non-anginal pain, 4-Asymptomatic)\n",
    "\n",
    "pd.crosstab(hd.cp[::15],hd.target).plot(kind=\"bar\",figsize=(8,8),color=[\"deeppink\",\"blue\"])\n",
    "plt.ylabel(\"patients\");\n",
    "plt.xticks(rotation=0);\n",
    "plt.legend(['0', '1']); \n"
   ]
  },
  {
   "cell_type": "markdown",
   "id": "8ebea672",
   "metadata": {},
   "source": [
    "The above graph tells us that patients with Type 3 chest pain have heart disease. and verty few Patients with 1 type chest pain have heart disease"
   ]
  },
  {
   "cell_type": "code",
   "execution_count": 126,
   "id": "bfbc40e7",
   "metadata": {},
   "outputs": [
    {
     "data": {
      "image/png": "[encoded data removed]",
      "text/plain": [
       "<Figure size 576x576 with 1 Axes>"
      ]
     },
     "metadata": {},
     "output_type": "display_data"
    }
   ],
   "source": [
    "# Comparing cholestrol with target\n",
    "pd.crosstab(hd.chol[::15],hd.target).plot(kind=\"bar\",figsize=(8,8),color=[\"deeppink\",\"blue\"])\n",
    "plt.ylabel(\"patients\");\n",
    "plt.xticks(rotation=0);\n",
    "plt.legend(['0', '1']); "
   ]
  },
  {
   "cell_type": "code",
   "execution_count": 127,
   "id": "12ed0803",
   "metadata": {},
   "outputs": [
    {
     "data": {
      "image/png": "[encoded data removed]",
      "text/plain": [
       "<Figure size 576x576 with 1 Axes>"
      ]
     },
     "metadata": {},
     "output_type": "display_data"
    }
   ],
   "source": [
    "# Comparing maximum heart rate with target\n",
    "pd.crosstab(hd.thalach[::15],hd.target).plot(kind=\"bar\",figsize=(8,8),color=[\"deeppink\",\"blue\"])\n",
    "plt.ylabel(\"patients\");\n",
    "plt.xticks(rotation=0);\n",
    "plt.legend(['0', '1']);"
   ]
  },
  {
   "cell_type": "code",
   "execution_count": 128,
   "id": "eb96679b",
   "metadata": {},
   "outputs": [
    {
     "data": {
      "image/png": "[encoded data removed]",
      "text/plain": [
       "<Figure size 720x576 with 1 Axes>"
      ]
     },
     "metadata": {},
     "output_type": "display_data"
    }
   ],
   "source": [
    "# fINDING Heart Disease PEOPLE WITH restingBloodPressure AND AGE  USING SCATTER PLOT\n",
    "\n",
    "plt.figure(figsize=(10,8))\n",
    "plt.scatter(hd.age[hd.target==1],hd.trestbps[hd.target==1],color=\"Red\")\n",
    "\n",
    "plt.scatter(hd.age[hd.target==0],hd.trestbps[hd.target==0],color=\"Green\")\n",
    "\n",
    "plt.title(\"heart disease in function of Age and resting Blood pressure\")\n",
    "plt.xlabel(\"Age\")\n",
    "plt.ylabel(\"TRESTBPS\")\n",
    "plt.legend([\"HeartDisease\",\"No HeartDisease\"]);"
   ]
  },
  {
   "cell_type": "code",
   "execution_count": 129,
   "id": "728677ba",
   "metadata": {},
   "outputs": [
    {
     "data": {
      "text/plain": [
       "<AxesSubplot: >"
      ]
     },
     "execution_count": 129,
     "metadata": {},
     "output_type": "execute_result"
    },
    {
     "data": {
      "image/png": "[encoded data removed]",
      "text/plain": [
       "<Figure size 1440x1440 with 2 Axes>"
      ]
     },
     "metadata": {},
     "output_type": "display_data"
    }
   ],
   "source": [
    "# To knw thw relation between various features\n",
    "\n",
    "corr_matrix = hd.corr()\n",
    "top_corr_feature = corr_matrix.index\n",
    "plt.figure(figsize=(20, 20))\n",
    "sns.heatmap(hd[top_corr_feature].corr(), annot=True, cmap=\"RdYlGn\", annot_kws={\"size\":15})"
   ]
  },
  {
   "cell_type": "markdown",
   "id": "43d38c7f",
   "metadata": {},
   "source": [
    "# OBSERVATION\n",
    "1.Major features for having Heart diesease are : Resting blood pressure, Cholestrol, Chest pain and Maximum Heart rates achieved.\n",
    "\n",
    "2.The data is not disbalanced.\n",
    "\n",
    "3.From the another plot we can conclude that number of men are majorly having Heart disease than compared to females.And also men are more healthier than females.\n",
    "\n",
    "4.The graph tells us that patients with Type 3 chest pain have heart disease and very few Patients with 1 type chest pain can have heart disease."
   ]
  },
  {
   "cell_type": "code",
   "execution_count": 130,
   "id": "42576e0d",
   "metadata": {},
   "outputs": [],
   "source": [
    "# creating a copy of dataset \n",
    "heart = hd.copy()"
   ]
  },
  {
   "cell_type": "code",
   "execution_count": 131,
   "id": "280d511c",
   "metadata": {},
   "outputs": [
    {
     "data": {
      "text/plain": [
       "(297, 14)"
      ]
     },
     "execution_count": 131,
     "metadata": {},
     "output_type": "execute_result"
    }
   ],
   "source": [
    "heart.shape"
   ]
  },
  {
   "cell_type": "code",
   "execution_count": 132,
   "id": "18428437",
   "metadata": {},
   "outputs": [
    {
     "data": {
      "text/html": [
       "<div>\n",
       "<style scoped>\n",
       "    .dataframe tbody tr th:only-of-type {\n",
       "        vertical-align: middle;\n",
       "    }\n",
       "\n",
       "    .dataframe tbody tr th {\n",
       "        vertical-align: top;\n",
       "    }\n",
       "\n",
       "    .dataframe thead th {\n",
       "        text-align: right;\n",
       "    }\n",
       "</style>\n",
       "<table border=\"1\" class=\"dataframe\">\n",
       "  <thead>\n",
       "    <tr style=\"text-align: right;\">\n",
       "      <th></th>\n",
       "      <th>age</th>\n",
       "      <th>sex</th>\n",
       "      <th>cp</th>\n",
       "      <th>trestbps</th>\n",
       "      <th>chol</th>\n",
       "      <th>fbs</th>\n",
       "      <th>restecg</th>\n",
       "      <th>thalach</th>\n",
       "      <th>exang</th>\n",
       "      <th>oldpeak</th>\n",
       "      <th>slope</th>\n",
       "      <th>ca</th>\n",
       "      <th>thal</th>\n",
       "      <th>target</th>\n",
       "    </tr>\n",
       "  </thead>\n",
       "  <tbody>\n",
       "    <tr>\n",
       "      <th>0</th>\n",
       "      <td>69</td>\n",
       "      <td>1</td>\n",
       "      <td>0</td>\n",
       "      <td>160</td>\n",
       "      <td>234</td>\n",
       "      <td>1</td>\n",
       "      <td>2</td>\n",
       "      <td>131</td>\n",
       "      <td>0</td>\n",
       "      <td>0.10</td>\n",
       "      <td>1</td>\n",
       "      <td>1</td>\n",
       "      <td>0</td>\n",
       "      <td>0</td>\n",
       "    </tr>\n",
       "    <tr>\n",
       "      <th>1</th>\n",
       "      <td>69</td>\n",
       "      <td>0</td>\n",
       "      <td>0</td>\n",
       "      <td>140</td>\n",
       "      <td>239</td>\n",
       "      <td>0</td>\n",
       "      <td>0</td>\n",
       "      <td>151</td>\n",
       "      <td>0</td>\n",
       "      <td>1.80</td>\n",
       "      <td>0</td>\n",
       "      <td>2</td>\n",
       "      <td>0</td>\n",
       "      <td>0</td>\n",
       "    </tr>\n",
       "    <tr>\n",
       "      <th>2</th>\n",
       "      <td>66</td>\n",
       "      <td>0</td>\n",
       "      <td>0</td>\n",
       "      <td>150</td>\n",
       "      <td>226</td>\n",
       "      <td>0</td>\n",
       "      <td>0</td>\n",
       "      <td>114</td>\n",
       "      <td>0</td>\n",
       "      <td>2.60</td>\n",
       "      <td>2</td>\n",
       "      <td>0</td>\n",
       "      <td>0</td>\n",
       "      <td>0</td>\n",
       "    </tr>\n",
       "    <tr>\n",
       "      <th>3</th>\n",
       "      <td>65</td>\n",
       "      <td>1</td>\n",
       "      <td>0</td>\n",
       "      <td>138</td>\n",
       "      <td>282</td>\n",
       "      <td>1</td>\n",
       "      <td>2</td>\n",
       "      <td>174</td>\n",
       "      <td>0</td>\n",
       "      <td>1.40</td>\n",
       "      <td>1</td>\n",
       "      <td>1</td>\n",
       "      <td>0</td>\n",
       "      <td>1</td>\n",
       "    </tr>\n",
       "    <tr>\n",
       "      <th>4</th>\n",
       "      <td>64</td>\n",
       "      <td>1</td>\n",
       "      <td>0</td>\n",
       "      <td>110</td>\n",
       "      <td>211</td>\n",
       "      <td>0</td>\n",
       "      <td>2</td>\n",
       "      <td>144</td>\n",
       "      <td>1</td>\n",
       "      <td>1.80</td>\n",
       "      <td>1</td>\n",
       "      <td>0</td>\n",
       "      <td>0</td>\n",
       "      <td>0</td>\n",
       "    </tr>\n",
       "  </tbody>\n",
       "</table>\n",
       "</div>"
      ],
      "text/plain": [
       "   age  sex  cp  trestbps  chol  fbs  restecg  thalach  exang  oldpeak  slope  \\\n",
       "0   69    1   0       160   234    1        2      131      0     0.10      1   \n",
       "1   69    0   0       140   239    0        0      151      0     1.80      0   \n",
       "2   66    0   0       150   226    0        0      114      0     2.60      2   \n",
       "3   65    1   0       138   282    1        2      174      0     1.40      1   \n",
       "4   64    1   0       110   211    0        2      144      1     1.80      1   \n",
       "\n",
       "   ca  thal  target  \n",
       "0   1     0       0  \n",
       "1   2     0       0  \n",
       "2   0     0       0  \n",
       "3   1     0       1  \n",
       "4   0     0       0  "
      ]
     },
     "execution_count": 132,
     "metadata": {},
     "output_type": "execute_result"
    }
   ],
   "source": [
    "heart = heart.rename(columns={'condition':'target'})\n",
    "heart.head()\n"
   ]
  },
  {
   "cell_type": "markdown",
   "id": "5880ea29",
   "metadata": {},
   "source": [
    "# Lets divide our data set and use training dataset for model training, and test dataset is to eveluate model perfomance"
   ]
  },
  {
   "cell_type": "code",
   "execution_count": 133,
   "id": "f42f7dd7",
   "metadata": {},
   "outputs": [
    {
     "name": "stdout",
     "output_type": "stream",
     "text": [
      "X_train size: (222, 13), X_test size: (75, 13)\n"
     ]
    }
   ],
   "source": [
    "from sklearn.model_selection import train_test_split\n",
    "\n",
    "x= heart.drop(columns= 'target')\n",
    "y= heart.target\n",
    "\n",
    "x_train, x_test, y_train, y_test= train_test_split(x, y, test_size= 0.25, random_state=42)\n",
    "print('X_train size: {}, X_test size: {}'.format(x_train.shape, x_test.shape))"
   ]
  },
  {
   "cell_type": "markdown",
   "id": "e5c64867",
   "metadata": {},
   "source": [
    "# Feature scaling\n"
   ]
  },
  {
   "cell_type": "code",
   "execution_count": 134,
   "id": "a413da9b",
   "metadata": {},
   "outputs": [],
   "source": [
    "from sklearn.preprocessing import StandardScaler\n",
    "\n",
    "scaler= StandardScaler()\n",
    "x_train_scaler= scaler.fit_transform(x_train)\n",
    "x_test_scaler= scaler.fit_transform(x_test)"
   ]
  },
  {
   "cell_type": "markdown",
   "id": "32b2dc26",
   "metadata": {},
   "source": [
    "from sklearn.preprocessing import StandardScaler\n",
    "\n",
    "scaler= StandardScaler()\n",
    "x_train_scaler= scaler.fit_transform(x_train)\n",
    "x_test_scaler= scaler.fit_transform(x_test)"
   ]
  },
  {
   "cell_type": "markdown",
   "id": "ac74b8a0",
   "metadata": {},
   "source": [
    "# Linear regression"
   ]
  },
  {
   "cell_type": "code",
   "execution_count": 135,
   "id": "135537e2",
   "metadata": {},
   "outputs": [
    {
     "data": {
      "text/plain": [
       "0.37913776240450037"
      ]
     },
     "execution_count": 135,
     "metadata": {},
     "output_type": "execute_result"
    }
   ],
   "source": [
    "from sklearn.linear_model import LinearRegression\n",
    "lr_clf= LinearRegression()\n",
    "lr_clf.fit(x_train_scaler, y_train)\n",
    "y_pred_lr= lr_clf.predict(x_test_scaler)\n",
    "lr_clf.score(x_test_scaler,y_test)"
   ]
  },
  {
   "cell_type": "markdown",
   "id": "825b9755",
   "metadata": {},
   "source": [
    "# LOGISTIC REGRESSION\n"
   ]
  },
  {
   "cell_type": "code",
   "execution_count": 136,
   "id": "02511e1b",
   "metadata": {},
   "outputs": [
    {
     "data": {
      "text/plain": [
       "0.76"
      ]
     },
     "execution_count": 136,
     "metadata": {},
     "output_type": "execute_result"
    }
   ],
   "source": [
    "from sklearn.linear_model import LogisticRegression\n",
    "\n",
    "logr_clf= LogisticRegression()\n",
    "logr_clf.fit(x_train_scaler, y_train)\n",
    "y_pred_lor= logr_clf.predict(x_test_scaler)\n",
    "logr_clf.score(x_test_scaler,y_test)"
   ]
  },
  {
   "cell_type": "code",
   "execution_count": 137,
   "id": "e72734e1",
   "metadata": {},
   "outputs": [
    {
     "name": "stdout",
     "output_type": "stream",
     "text": [
      "LogistiC Regression Classification Report\n",
      "               precision    recall  f1-score   support\n",
      "\n",
      "           0       0.75      0.79      0.77        38\n",
      "           1       0.77      0.73      0.75        37\n",
      "\n",
      "    accuracy                           0.76        75\n",
      "   macro avg       0.76      0.76      0.76        75\n",
      "weighted avg       0.76      0.76      0.76        75\n",
      "\n",
      "Accuracy: 76.0%\n",
      "\n",
      "Precision: 77%\n",
      "\n",
      "Recall: 73%\n",
      "\n"
     ]
    }
   ],
   "source": [
    "print('LogistiC Regression Classification Report\\n', classification_report(y_test, y_pred_lor))\n",
    "print('Accuracy: {}%\\n'.format(round((accuracy_score(y_test, y_pred_lor)*100),2)))\n",
    "print('Precision: {}%\\n'.format(round((precision_score(y_test, y_pred_lor)*100))))\n",
    "print('Recall: {}%\\n'.format(round((recall_score(y_test, y_pred_lor)*100))))"
   ]
  },
  {
   "cell_type": "code",
   "execution_count": 138,
   "id": "3501de7c",
   "metadata": {},
   "outputs": [
    {
     "data": {
      "text/plain": [
       "array([[30,  8],\n",
       "       [10, 27]], dtype=int64)"
      ]
     },
     "execution_count": 138,
     "metadata": {},
     "output_type": "execute_result"
    }
   ],
   "source": [
    "cm = confusion_matrix(y_test, y_pred_lor)\n",
    "cm"
   ]
  },
  {
   "cell_type": "markdown",
   "id": "ea4ff316",
   "metadata": {},
   "source": [
    "# Decision Tree classifier"
   ]
  },
  {
   "cell_type": "code",
   "execution_count": 139,
   "id": "231b4764",
   "metadata": {},
   "outputs": [
    {
     "data": {
      "text/plain": [
       "0.72"
      ]
     },
     "execution_count": 139,
     "metadata": {},
     "output_type": "execute_result"
    }
   ],
   "source": [
    "from sklearn.tree import DecisionTreeClassifier\n",
    "dt_clf= DecisionTreeClassifier()\n",
    "dt_clf.fit(x_train_scaler, y_train)\n",
    "y_pred_dct= dt_clf.predict(x_test_scaler)\n",
    "dt_clf.score(x_test_scaler,y_test)"
   ]
  },
  {
   "cell_type": "code",
   "execution_count": 140,
   "id": "5e2f7019",
   "metadata": {},
   "outputs": [
    {
     "name": "stdout",
     "output_type": "stream",
     "text": [
      " DT Classification Report\n",
      "               precision    recall  f1-score   support\n",
      "\n",
      "           0       0.76      0.66      0.70        38\n",
      "           1       0.69      0.78      0.73        37\n",
      "\n",
      "    accuracy                           0.72        75\n",
      "   macro avg       0.72      0.72      0.72        75\n",
      "weighted avg       0.72      0.72      0.72        75\n",
      "\n",
      "Accuracy: 72.0%\n",
      "\n",
      "Precision: 69%\n",
      "\n",
      "Recall: 78%\n",
      "\n"
     ]
    }
   ],
   "source": [
    "print(' DT Classification Report\\n', classification_report(y_test, y_pred_dct))\n",
    "print('Accuracy: {}%\\n'.format(round((accuracy_score(y_test, y_pred_dct)*100),2)))\n",
    "print('Precision: {}%\\n'.format(round((precision_score(y_test, y_pred_dct)*100))))\n",
    "print('Recall: {}%\\n'.format(round((recall_score(y_test, y_pred_dct)*100))))"
   ]
  },
  {
   "cell_type": "code",
   "execution_count": 141,
   "id": "f45eb7bd",
   "metadata": {},
   "outputs": [
    {
     "data": {
      "text/plain": [
       "array([[25, 13],\n",
       "       [ 8, 29]], dtype=int64)"
      ]
     },
     "execution_count": 141,
     "metadata": {},
     "output_type": "execute_result"
    }
   ],
   "source": [
    "cm = confusion_matrix(y_test, y_pred_dct)\n",
    "cm"
   ]
  },
  {
   "cell_type": "markdown",
   "id": "b683a124",
   "metadata": {},
   "source": [
    "# Random Forest"
   ]
  },
  {
   "cell_type": "code",
   "execution_count": 142,
   "id": "7ff2daec",
   "metadata": {},
   "outputs": [
    {
     "data": {
      "text/plain": [
       "0.8"
      ]
     },
     "execution_count": 142,
     "metadata": {},
     "output_type": "execute_result"
    }
   ],
   "source": [
    "from sklearn.ensemble import RandomForestClassifier\n",
    "\n",
    "rf_clf= RandomForestClassifier()\n",
    "rf_clf.fit(x_train_scaler, y_train)\n",
    "y_pred_rfc= rf_clf.predict(x_test_scaler)\n",
    "rf_clf.score(x_test_scaler,y_test)"
   ]
  },
  {
   "cell_type": "code",
   "execution_count": 143,
   "id": "1f071d32",
   "metadata": {},
   "outputs": [
    {
     "name": "stdout",
     "output_type": "stream",
     "text": [
      "Random Forest Classification Report\n",
      "               precision    recall  f1-score   support\n",
      "\n",
      "           0       0.81      0.79      0.80        38\n",
      "           1       0.79      0.81      0.80        37\n",
      "\n",
      "    accuracy                           0.80        75\n",
      "   macro avg       0.80      0.80      0.80        75\n",
      "weighted avg       0.80      0.80      0.80        75\n",
      "\n",
      "Accuracy: 80.0%\n",
      "\n",
      "Precision: 79%\n",
      "\n",
      "Recall: 81%\n",
      "\n"
     ]
    }
   ],
   "source": [
    "print('Random Forest Classification Report\\n', classification_report(y_test, y_pred_rfc))\n",
    "print('Accuracy: {}%\\n'.format(round((accuracy_score(y_test, y_pred_rfc)*100),2)))\n",
    "print('Precision: {}%\\n'.format(round((precision_score(y_test, y_pred_rfc)*100))))\n",
    "print('Recall: {}%\\n'.format(round((recall_score(y_test, y_pred_rfc)*100))))"
   ]
  },
  {
   "cell_type": "code",
   "execution_count": 144,
   "id": "3120ce24",
   "metadata": {},
   "outputs": [
    {
     "data": {
      "text/plain": [
       "array([[30,  8],\n",
       "       [ 7, 30]], dtype=int64)"
      ]
     },
     "execution_count": 144,
     "metadata": {},
     "output_type": "execute_result"
    }
   ],
   "source": [
    "cm = confusion_matrix(y_test, y_pred_rfc)\n",
    "cm"
   ]
  },
  {
   "cell_type": "markdown",
   "id": "db67db20",
   "metadata": {},
   "source": [
    "# SVM"
   ]
  },
  {
   "cell_type": "code",
   "execution_count": 145,
   "id": "c93a501d",
   "metadata": {},
   "outputs": [
    {
     "data": {
      "text/plain": [
       "0.7866666666666666"
      ]
     },
     "execution_count": 145,
     "metadata": {},
     "output_type": "execute_result"
    }
   ],
   "source": [
    "from sklearn.svm import SVC\n",
    "\n",
    "svc_clf= SVC()\n",
    "svc_clf.fit(x_train_scaler, y_train)\n",
    "y_pred_svc= svc_clf.predict(x_test_scaler)\n",
    "svc_clf.score(x_test_scaler,y_test)"
   ]
  },
  {
   "cell_type": "code",
   "execution_count": 146,
   "id": "302f819b",
   "metadata": {},
   "outputs": [
    {
     "name": "stdout",
     "output_type": "stream",
     "text": [
      " SVM Classification Report\n",
      "               precision    recall  f1-score   support\n",
      "\n",
      "           0       0.79      0.79      0.79        38\n",
      "           1       0.78      0.78      0.78        37\n",
      "\n",
      "    accuracy                           0.79        75\n",
      "   macro avg       0.79      0.79      0.79        75\n",
      "weighted avg       0.79      0.79      0.79        75\n",
      "\n",
      "Accuracy: 78.67%\n",
      "\n",
      "Precision: 78%\n",
      "\n",
      "Recall: 78%\n",
      "\n"
     ]
    }
   ],
   "source": [
    "print(' SVM Classification Report\\n', classification_report(y_test, y_pred_svc))\n",
    "print('Accuracy: {}%\\n'.format(round((accuracy_score(y_test, y_pred_svc)*100),2)))\n",
    "print('Precision: {}%\\n'.format(round((precision_score(y_test, y_pred_svc)*100))))\n",
    "print('Recall: {}%\\n'.format(round((recall_score(y_test, y_pred_svc)*100))))"
   ]
  },
  {
   "cell_type": "code",
   "execution_count": 147,
   "id": "3cdda923",
   "metadata": {},
   "outputs": [
    {
     "data": {
      "text/plain": [
       "array([[30,  8],\n",
       "       [ 8, 29]], dtype=int64)"
      ]
     },
     "execution_count": 147,
     "metadata": {},
     "output_type": "execute_result"
    }
   ],
   "source": [
    "cm = confusion_matrix(y_test, y_pred_svc)\n",
    "cm"
   ]
  },
  {
   "cell_type": "code",
   "execution_count": 149,
   "id": "750daf17",
   "metadata": {},
   "outputs": [],
   "source": [
    "import pickle\n",
    "\n",
    "filename = 'Healthcare_Analysis_on_Heart_Disease.pkl'\n",
    "pickle.dump(rf_clf, open(filename, 'wb'))"
   ]
  },
  {
   "cell_type": "code",
   "execution_count": null,
   "id": "eac919eb",
   "metadata": {},
   "outputs": [],
   "source": []
  }
 ],
 "metadata": {
  "kernelspec": {
   "display_name": "Python 3 (ipykernel)",
   "language": "python",
   "name": "python3"
  },
  "language_info": {
   "codemirror_mode": {
    "name": "ipython",
    "version": 3
   },
   "file_extension": ".py",
   "mimetype": "text/x-python",
   "name": "python",
   "nbconvert_exporter": "python",
   "pygments_lexer": "ipython3",
   "version": "3.10.4"
  },
  "vscode": {
   "interpreter": {
    "hash": "84fd2673a0f847bf80637898000f9b4175f2ffd476d5f31b41a838c2acdb5b76"
   }
  }
 },
 "nbformat": 4,
 "nbformat_minor": 5
}
